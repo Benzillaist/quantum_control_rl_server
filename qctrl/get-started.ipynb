{
 "cells": [
  {
   "cell_type": "markdown",
   "id": "4f3d16b0",
   "metadata": {},
   "source": [
    "# Get started\n",
    "\n",
    "**Boulder Opal at a glance and quickstart**\n",
    "\n",
    "## Boulder Opal overview\n",
    "\n",
    "Boulder Opal is a versatile Python toolset that provides everything a research team needs to automate and optimize quantum hardware performance at scale for quantum computing and quantum sensing. \n",
    "\n",
    "The challenges of hardware instability, onerous manual tune-up, and increasing complexity with system scaling can dramatically slow down progress.\n",
    "Boulder Opal helps research teams to overcome these challenges and accelerate progress by leveraging five core capabilities based on a powerful discipline called quantum control engineering:\n",
    "\n",
    "* **Characterize hardware**:\n",
    "  Identify key system parameters and imperfections for effective calibration, simulation, and optimization.\n",
    "\n",
    "* **Design error-robust controls**:\n",
    "  Create control solutions to manipulate quantum systems that are resilient to noise and errors.\n",
    "\n",
    "* **Simulate quantum dynamics**:  \n",
    "  Understand and anticipate the behavior of complex quantum devices under realistic conditions.\n",
    "\n",
    "* **Automate hardware with AI**:\n",
    "  Automate and speed up calibration and optimization with closed-loop agents at scale.\n",
    "\n",
    "* **Verify performance**: \n",
    "  Evaluate control solutions to gain insights and ensure effectiveness.\n",
    "\n",
    "If you want to learn more, you can read our [Boulder Opal overview](https://docs.q-ctrl.com/boulder-opal/topics/boulder-opal-overview) topic. \n",
    "In this get started guide, you will run through the steps to get Boulder Opal ready for your calculations."
   ]
  },
  {
   "cell_type": "markdown",
   "id": "7b049e40",
   "metadata": {},
   "source": [
    "## Setup\n",
    "\n",
    "### 1. Sign up for an account\n",
    "\n",
    "[Sign up for a Q-CTRL account](https://boulder.q-ctrl.com/signup) to get started with Boulder Opal for free.\n",
    "\n",
    "### 2. Install the Boulder Opal Python package\n",
    "\n",
    "To get started quickly and easily, we recommend [Anaconda](https://www.anaconda.com/)—a free and open-source distribution of the Python and R programming languages for scientific computing.\n",
    "Boulder Opal requires Python 3.9 or later.\n",
    "\n",
    "Once you're set up with a valid Python version, install the Boulder Opal Python package using pip on the command line.\n",
    "\n",
    "```shell\n",
    "pip install boulder-opal\n",
    "```\n",
    "\n",
    "Several of the Boulder Opal [user guides](https://docs.q-ctrl.com/boulder-opal/user-guides) and [application notes](https://docs.q-ctrl.com/boulder-opal/application-notes) use the [Q-CTRL Visualizer](https://docs.q-ctrl.com/references/qctrl-visualizer/) and [Q-CTRL Open Controls](https://github.com/qctrl/open-controls) packages.\n",
    "You can also install them using `pip`.\n",
    "\n",
    "```shell\n",
    "pip install qctrl-visualizer qctrl-open-controls\n",
    "```\n",
    "\n",
    "If you already have the `boulder-opal` package installed and wish to update to the latest version, use the `upgrade` flag in `pip`.\n",
    "\n",
    "```shell\n",
    "pip install --upgrade boulder-opal\n",
    "```\n",
    "\n",
    "You can similarly update `qctrl-visualizer` and `qctrl-open-controls`."
   ]
  },
  {
   "cell_type": "markdown",
   "id": "f09ca6ea-00e3-48c7-80f9-185737cf9559",
   "metadata": {},
   "source": [
    "### 3. Calculate with Boulder Opal\n",
    "\n",
    "#### Import the Boulder Opal client\n",
    "Import Boulder Opal in your Jupyter notebook or Python script."
   ]
  },
  {
   "cell_type": "code",
   "id": "b684aa9a",
   "metadata": {
    "ExecuteTime": {
     "end_time": "2024-12-18T23:02:26.951117Z",
     "start_time": "2024-12-18T23:02:21.904117Z"
    }
   },
   "source": [
    "import boulderopal as bo"
   ],
   "outputs": [
    {
     "name": "stdout",
     "output_type": "stream",
     "text": [
      "Boulder Opal client update available.\n",
      "Latest version is 2.1.3, you have 1.4.0.\n",
      "Visit https://docs.q-ctrl.com/boulder-opal/changelog for the latest product updates.\n"
     ]
    }
   ],
   "execution_count": 1
  },
  {
   "cell_type": "markdown",
   "id": "e4663f44-742f-4a88-b1d8-28807b39c6d7",
   "metadata": {},
   "source": [
    "#### Configure your organization (optional)\n",
    "\n",
    "If you are a member of multiple organizations, you must specify which organization's compute environment to use by using `bouleropal.cloud.set_organization`.\n",
    "```python\n",
    "bo.cloud.set_organization(\"organization_slug\")\n",
    "```\n",
    "where `organization_slug` is the unique ID used to identify this organization. You can check organization names and other details by visiting your [Q-CTRL account](https://accounts.q-ctrl.com/)."
   ]
  },
  {
   "cell_type": "markdown",
   "id": "058d41cc-a475-4e5c-ae4f-d38264c88c88",
   "metadata": {},
   "source": [
    "#### Request machines before running calculations (optional)\n",
    "\n",
    "Before you start processing your calculations, you can request some worker machines to be online with by using `boulderopal.cloud.request_machines` method,\n",
    "```python\n",
    "bo.cloud.request_machines(machine_count)\n",
    "```\n",
    "where `machine_count` is the number of machines requested to be online (with the maximum set to the number of machines allocated in your plan). \n",
    "This will warmup the machines to minimize queue times for your actual calculations, refer to the [Computational resources in Boulder Opal](https://docs.q-ctrl.com/boulder-opal/topics/computational-resources-in-boulder-opal) topic for more details. \n",
    "If you skip requesting machines, the system will autoscale based on the number of calculations required."
   ]
  },
  {
   "cell_type": "markdown",
   "id": "b7a158ec-ac57-4d8a-b5f4-47ada80b9144",
   "metadata": {},
   "source": [
    "#### Submit your first calculation\n",
    "\n",
    "You are now ready to perform your first calculation using Boulder Opal."
   ]
  },
  {
   "cell_type": "code",
   "id": "88284308-bea4-4843-8471-9a9082c59da4",
   "metadata": {
    "ExecuteTime": {
     "end_time": "2024-12-18T23:04:07.309117Z",
     "start_time": "2024-12-18T23:02:26.955117Z"
    }
   },
   "source": [
    "import numpy as np\n",
    "\n",
    "graph = bo.Graph()\n",
    "amplitude = np.pi * 1e5  # rad/s\n",
    "duration = 5e-6  # s\n",
    "pi_pulse = graph.constant_pwc(amplitude, duration)\n",
    "infidelity = graph.infidelity_pwc(\n",
    "    hamiltonian=pi_pulse * graph.pauli_matrix(\"X\"),\n",
    "    target=graph.target(graph.pauli_matrix(\"X\")),\n",
    "    name=\"infidelity\",\n",
    ")\n",
    "result = bo.execute_graph(graph, \"infidelity\")\n",
    "print(f\"π-pulse infidelity: {result['output']['infidelity']['value']:.3e}\")"
   ],
   "outputs": [
    {
     "name": "stdout",
     "output_type": "stream",
     "text": [
      "\n",
      "Authentication URL:\n",
      "\n",
      "https://id.q-ctrl.com/auth/realms/q-ctrl/protocol/openid-connect/auth?response_type=code&client_id=cli-python&redirect_uri=http%3A%2F%2Flocalhost%3A8001&scope=openid+profile+email+offline_access&state=KRk1QqErQLrGeJJlsiQAx374QPSYND\n",
      "\n",
      "The URL above should be automatically opened in your default web browser.\n",
      "(Please copy and paste in case it doesn't open automatically)\n",
      "\n",
      "Authenticate your credentials in your browser...\n",
      "\n",
      "Finalizing authentication...\n",
      "Successful authentication!\n",
      "Your task (action_id=\"2060470\") is queued.\n",
      "Your task (action_id=\"2060470\") has completed.\n",
      "π-pulse infidelity: 4.441e-16\n"
     ]
    }
   ],
   "execution_count": 2
  },
  {
   "cell_type": "markdown",
   "id": "d40de6ad",
   "metadata": {},
   "source": [
    "The first time you run a calculation with Boulder Opal, you'll be asked to authenticate.\n",
    "An authentication link will open up automatically, or be provided for you to copy and open in your browser of choice.\n",
    "You will be asked to enter your credentials if you are not already authenticated on our web app.\n",
    "\n",
    "It should look something like this:\n",
    "\n",
    "```\n",
    "Authentication URL:\n",
    "\n",
    "https://id.q-ctrl.com/auth/...\n",
    "\n",
    "The URL above should be automatically opened in your default web browser.\n",
    "(Please copy and paste in case it doesn't open automatically)\n",
    "\n",
    "Authenticate your credentials in your browser...\n",
    "\n",
    "Finalizing authentication...\n",
    "Successful authentication!\n",
    "```"
   ]
  },
  {
   "cell_type": "markdown",
   "id": "c17dc87e",
   "metadata": {},
   "source": [
    "You are now ready to run your calculations!\n",
    "\n",
    "You can monitor your calculations and manage your computing resources in the [Boulder Opal web app](https://boulder.q-ctrl.com).\n",
    "Check out our [tutorials](https://docs.q-ctrl.com/boulder-opal/tutorials/), guiding you through Boulder Opal's core capabilities step by step, and [topics](https://docs.q-ctrl.com/boulder-opal/topics/), discussing the key concepts surrounding Boulder Opal."
   ]
  }
 ],
 "metadata": {
  "kernelspec": {
   "display_name": "Python 3 (ipykernel)",
   "language": "python",
   "name": "python3"
  },
  "language_info": {
   "codemirror_mode": {
    "name": "ipython",
    "version": 3
   },
   "file_extension": ".py",
   "mimetype": "text/x-python",
   "name": "python",
   "nbconvert_exporter": "python",
   "pygments_lexer": "ipython3",
   "version": "3.11.4"
  }
 },
 "nbformat": 4,
 "nbformat_minor": 5
}
