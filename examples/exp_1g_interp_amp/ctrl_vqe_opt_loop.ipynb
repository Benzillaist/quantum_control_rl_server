{
 "cells": [
  {
   "cell_type": "code",
   "id": "initial_id",
   "metadata": {
    "collapsed": true,
    "ExecuteTime": {
     "end_time": "2025-05-15T17:24:27.026052Z",
     "start_time": "2025-05-15T17:24:23.663321Z"
    }
   },
   "source": [
    "import numpy as np\n",
    "import subprocess\n",
    "import time\n",
    "import copy\n",
    "from utils.opt_utils import *\n",
    "import os\n",
    "import h5py\n",
    "import pickle\n",
    "from qutip import *\n",
    "import json"
   ],
   "outputs": [],
   "execution_count": 1
  },
  {
   "metadata": {
    "ExecuteTime": {
     "end_time": "2025-05-15T17:24:27.056021Z",
     "start_time": "2025-05-15T17:24:27.026052Z"
    }
   },
   "cell_type": "code",
   "source": [
    "with open(\"../../utils/pulse_configs.py\") as f:\n",
    "    data = f.read()\n",
    "\n",
    "config_dict = json.loads(data)\n",
    "\n",
    "print(type(config_dict))\n",
    "print(type(dict(config_dict)))\n",
    "\n",
    "# config_dict[\"test\"] = 1\n",
    "# print(config_dict[\"test\"])"
   ],
   "id": "1f2ee208be8924fb",
   "outputs": [
    {
     "name": "stdout",
     "output_type": "stream",
     "text": [
      "<class 'dict'>\n",
      "<class 'dict'>\n"
     ]
    }
   ],
   "execution_count": 2
  },
  {
   "metadata": {
    "ExecuteTime": {
     "end_time": "2025-05-15T17:24:27.065989Z",
     "start_time": "2025-05-15T17:24:27.056021Z"
    }
   },
   "cell_type": "code",
   "source": [
    "# Defining relevant values\n",
    "q_ch = config_dict[\"qubit\"][\"ch\"] \n",
    "A_ch = config_dict[\"storage_A\"][\"ch\"]\n",
    "B_ch = config_dict[\"storage_B\"][\"ch\"]\n",
    "\n",
    "wq = config_dict[\"qubit\"][\"freqs\"][\"g\"][\"ge\"]\n",
    "wa_A = config_dict[\"storage_A\"][\"freq\"]\n",
    "wa_B = config_dict[\"storage_B\"][\"freq\"]"
   ],
   "id": "41f57b7bf2d1c57b",
   "outputs": [],
   "execution_count": 3
  },
  {
   "metadata": {
    "ExecuteTime": {
     "end_time": "2025-05-15T17:24:27.086004Z",
     "start_time": "2025-05-15T17:24:27.065989Z"
    }
   },
   "cell_type": "code",
   "source": [
    "# ========== OPTIONS ========== #\n",
    "max_segs = 1000\n",
    "us = 0.000001\n",
    "time_start = 0 * us\n",
    "time_stop = 1.00 * us\n",
    "init_qamp = 2000\n",
    "init_camp = 4000\n",
    "\n",
    "num_drives = 2\n",
    "chs = [2, 4]\n",
    "init_freqs = [wq, wa_A]\n",
    "verbose = True\n",
    "plot_opt_pulses = True\n",
    "plot_pulse_viewer = True\n",
    "start_split_num = 200\n",
    "n_seg_jump = 1\n",
    "load_trial_pulses = True\n",
    "\n",
    "load_pulse_dir = r'C:\\Users\\Wang_Lab\\Documents\\GitLab\\quantum_control_rl_server\\examples\\exp_1g_interp_amp'\n",
    "load_times_file = r'opt_SNAP_times_1g.txt'\n",
    "load_amps_file = r'opt_SNAP_amps_1g.txt'\n",
    "use_loaded_data = False\n",
    "\n",
    "save_dir = r'C:\\Users\\Wang_Lab\\Documents\\GitLab\\quantum_control_rl_server\\examples\\exp_1g_interp_amp\\save_data'\n",
    "hdf5_name = time.strftime('50pts-%Y%m%d-%H%M%S.h5')\n",
    "epochs = 1000000\n",
    "epochs_per_seg = 50\n",
    "train_batch_size = 20\n",
    "qubit_amp_scale = 0\n",
    "cavity_amp_scale = 0\n",
    "# ========== OPTIONS ========== #\n",
    "\n",
    "qscale = []\n",
    "cscale = []\n",
    "for i in range(2 * start_split_num):\n",
    "    qscale.append(init_qamp * qubit_amp_scale)\n",
    "    cscale.append(init_camp * cavity_amp_scale)\n",
    "\n",
    "drive_freqs = np.array(init_freqs)\n",
    "\n",
    "# Setup initial times and pulse amplitudes\n",
    "times = np.linspace(time_start, time_stop, start_split_num + 2)\n",
    "\n",
    "t_segs = np.array([times[1:-1] for i in range(2 * num_drives)])"
   ],
   "id": "ee13c6064083c6d1",
   "outputs": [],
   "execution_count": 4
  },
  {
   "metadata": {
    "ExecuteTime": {
     "end_time": "2025-05-15T17:24:27.185990Z",
     "start_time": "2025-05-15T17:24:27.086004Z"
    }
   },
   "cell_type": "code",
   "source": [
    "# new pulse setup\n",
    "if load_trial_pulses:\n",
    "    def gauss(A, mu, sigma, C=0):\n",
    "        def ret_gauss(x):\n",
    "            # zo_mask1 = (mu + (2 * sigma)) < x\n",
    "            # zo_mask2 = x < (mu - (2 * sigma))\n",
    "            # zo_mask = 1 - zo_mask1 - zo_mask2\n",
    "            def x_map(y):\n",
    "                if((y >= (mu - (2 * sigma))) and (y <= (mu + (2 * sigma)))):\n",
    "                    return A * np.exp(-np.power(y - mu, 2) / (np.power(sigma, 2))) + C\n",
    "                return 0\n",
    "            r = list(map(x_map, x))\n",
    "            return r\n",
    "        return ret_gauss\n",
    "    \n",
    "    def func_add(func1, func2):\n",
    "        def added_funcs(x):\n",
    "            return np.array(func1(x)) + np.array(func2(x))\n",
    "        return added_funcs\n",
    "    \n",
    "    def zeros(x):\n",
    "        return x - x\n",
    "    \n",
    "    def ones(x):\n",
    "        return (x + 1) - x\n",
    "    \n",
    "    # qubit\n",
    "    q_pi_amp = 3760\n",
    "    q_pi_sigma = 0.19 * us\n",
    "    q_pi_mu = 0.50 * us\n",
    "    \n",
    "    #cavity\n",
    "    disp_amp_1 = 14500\n",
    "    disp_sigma_1 = 0.03 * us\n",
    "    disp_mu_1 = 0.06 * us\n",
    "    \n",
    "    disp_amp_2 = -8500\n",
    "    disp_sigma_2 = 0.03 * us\n",
    "    disp_mu_2 = 0.94 * us\n",
    "    \n",
    "    qubit_pulse_func = gauss(q_pi_amp, q_pi_mu, q_pi_sigma)\n",
    "    cavity_pulse_func = func_add(\n",
    "        gauss(disp_amp_1, disp_mu_1, disp_sigma_1),\n",
    "        gauss(disp_amp_2, disp_mu_2, disp_sigma_2)\n",
    "    )\n",
    "    \n",
    "    amp_segs = np.array([\n",
    "        qubit_pulse_func(times)[1:-1],\n",
    "        ones(times)[1:-1],\n",
    "        cavity_pulse_func(times)[1:-1],\n",
    "        ones(times)[1:-1]]\n",
    "    )\n",
    "else:\n",
    "    amp_segs = (2 * np.round(np.random.rand(2 * num_drives, start_split_num))) - 1\n",
    "    amp_segs[:2, :] *= init_qamp\n",
    "    amp_segs[2:, :] *= init_camp\n",
    "    \n",
    "    # if use_loaded_data:\n",
    "    #     print(\"Loading data\")\n",
    "    #     load_pulse_times = np.loadtxt(str(os.path.join(load_pulse_dir, load_times_file)))\n",
    "    #     load_pulse_amps = np.loadtxt(str(os.path.join(load_pulse_dir, load_amps_file)))\n",
    "    #     \n",
    "    #     t_segs = np.array(load_pulse_times)\n",
    "    #     amp_segs = np.array(load_pulse_amps)\n",
    "    \n",
    "    # print(f'amp_segs: {amp_segs}')\n",
    "    # print(f'np.shape(amp_segs): {np.shape(amp_segs)}')\n",
    "    # print(f't_segs: {t_segs}')\n",
    "    # print(f'np.shape(t_segs): {np.shape(t_segs)}')\n",
    "    \n",
    "    # Create blank history arrays for storing optimal / past values\n",
    "    time_hist = []\n",
    "    amp_hist = []\n",
    "    cost_hist = []"
   ],
   "id": "3d10f7dbe4fc4198",
   "outputs": [],
   "execution_count": 5
  },
  {
   "metadata": {
    "ExecuteTime": {
     "end_time": "2025-05-15T17:24:27.376016Z",
     "start_time": "2025-05-15T17:24:27.185990Z"
    }
   },
   "cell_type": "code",
   "source": [
    "for i in range(len(amp_segs)):\n",
    "    plt.plot(times[1:-1] / us, amp_segs[i], label=f'Drive: {i}')\n",
    "plt.legend()\n",
    "plt.xlabel(\"Time (us)\")\n",
    "plt.ylabel(\"Amplitude (DAC units)\")\n",
    "plt.show()"
   ],
   "id": "c9928c69ea405868",
   "outputs": [
    {
     "data": {
      "text/plain": [
       "<Figure size 640x480 with 1 Axes>"
      ],
      "image/png": "[encoded data removed]"
     },
     "metadata": {},
     "output_type": "display_data"
    }
   ],
   "execution_count": 6
  },
  {
   "metadata": {
    "jupyter": {
     "is_executing": true
    },
    "ExecuteTime": {
     "start_time": "2025-05-15T17:24:27.376016Z"
    }
   },
   "cell_type": "code",
   "source": [
    "# Run vqe, etc\n",
    "vmax = np.vectorize(max)\n",
    "vmin = np.vectorize(min)\n",
    "\n",
    "hdf5_start_index = 0\n",
    "start_segs = start_split_num\n",
    "for i in range(max_segs):\n",
    "    \n",
    "    temp_amp_scale = np.append(np.array(qscale), np.array(cscale))\n",
    "    client_args = [chs, verbose, plot_opt_pulses, plot_pulse_viewer, time_start, time_stop, drive_freqs, t_segs.flatten()]\n",
    "    server_args = [epochs, train_batch_size, amp_segs, temp_amp_scale, hdf5_name]\n",
    "\n",
    "    # Save args for rl client\n",
    "    cf_name = \"temp_files/client_args.txt\"\n",
    "    with open(cf_name, \"wb\") as fp:\n",
    "        pickle.dump(client_args, fp)\n",
    "    fp.close()\n",
    "\n",
    "    # Save args for rl server\n",
    "    sf_name = \"temp_files/server_args.txt\"\n",
    "    with open(sf_name, \"wb\") as fp:\n",
    "        pickle.dump(server_args, fp)\n",
    "    fp.close()\n",
    "\n",
    "\n",
    "    os.system('cmd /c python ./run_rl_scripts.py')\n",
    "\n",
    "    # Give time for files to be updated etc\n",
    "    time.sleep(1)\n",
    "\n",
    "    time.sleep(10)\n",
    "    opt_amps = []\n",
    "    opt_times = []\n",
    "    opt_freqs = []\n",
    "\n",
    "    with h5py.File(os.path.join(save_dir, hdf5_name), \"r\") as f:\n",
    "        opt_res_index = np.argmax(f[str(i + hdf5_start_index)][\"evaluation\"][\"rewards\"][()])\n",
    "        opt_result = f[str(i + hdf5_start_index)][\"evaluation\"][\"rewards\"][()][opt_res_index]\n",
    "        for j in range(2 * num_drives):\n",
    "            opt_amps.append([f[str(i + hdf5_start_index)][\"evaluation\"][\"actions\"][f'pulse_array_{j}'][()][opt_res_index]])\n",
    "        \n",
    "    # updates amplitudes and frequencies with optimized values and reshape\n",
    "    amp_segs = np.array(opt_amps)\n",
    "    amp_segs = np.reshape(amp_segs, (num_drives * 2, int(len(amp_segs.flatten()) / (num_drives * 2))))\n",
    "\n",
    "    print(f'================')\n",
    "    print(f'num segs: {i + start_segs} ')\n",
    "    print(f'opt_amps: {amp_segs}')\n",
    "    print(f'opt_result: {opt_result}')\n",
    "\n",
    "    # save values to history arrays\n",
    "    time_hist.append(interp_time_wrapper(t_segs, time_start, time_stop))\n",
    "    amp_hist.append(interp_amp_wrapper(amp_segs))\n",
    "    cost_hist.append(opt_result)\n",
    "\n",
    "    np.savez(r'run_data\\\\' + hdf5_name[:-3] + \"-\" + str(i) + \".npz\", time=time_hist[-1], amp=amp_hist[-1], cost=cost_hist[-1])\n",
    "\n",
    "    for i in range(2 * n_seg_jump):\n",
    "        qscale.append(init_qamp * qubit_amp_scale)\n",
    "        cscale.append(init_camp * cavity_amp_scale)\n",
    "\n",
    "    # split segments and return to start of loop\n",
    "    if (i < max_segs - 1):\n",
    "        for i in range(n_seg_jump):\n",
    "            t_segs, amp_segs = split_segs_flat(interp_time_wrapper(t_segs, time_start, time_stop), interp_amp_wrapper(amp_segs))"
   ],
   "id": "71902ea000d62b75",
   "outputs": [],
   "execution_count": null
  },
  {
   "metadata": {
    "jupyter": {
     "is_executing": true
    }
   },
   "cell_type": "code",
   "source": "",
   "id": "760b39584e4ec17b",
   "outputs": [],
   "execution_count": null
  },
  {
   "metadata": {},
   "cell_type": "code",
   "source": "",
   "id": "ff7ed713be5f0075",
   "outputs": [],
   "execution_count": null
  }
 ],
 "metadata": {
  "kernelspec": {
   "display_name": "qick",
   "language": "python",
   "name": "qick"
  },
  "language_info": {
   "codemirror_mode": {
    "name": "ipython",
    "version": 2
   },
   "file_extension": ".py",
   "mimetype": "text/x-python",
   "name": "python",
   "nbconvert_exporter": "python",
   "pygments_lexer": "ipython2",
   "version": "2.7.6"
  }
 },
 "nbformat": 4,
 "nbformat_minor": 5
}
