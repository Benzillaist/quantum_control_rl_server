{
 "cells": [
  {
   "cell_type": "code",
   "id": "initial_id",
   "metadata": {
    "collapsed": true,
    "ExecuteTime": {
     "end_time": "2024-08-01T21:07:46.569874Z",
     "start_time": "2024-08-01T21:07:46.549866Z"
    }
   },
   "source": [
    "import numpy as np\n",
    "import subprocess\n",
    "import time\n",
    "import copy\n",
    "from utils.opt_utils import *\n",
    "import os\n",
    "import h5py\n",
    "import pickle\n",
    "from qutip import *"
   ],
   "outputs": [],
   "execution_count": 35
  },
  {
   "metadata": {
    "ExecuteTime": {
     "end_time": "2024-08-01T21:08:48.398349Z",
     "start_time": "2024-08-01T21:08:48.378330Z"
    }
   },
   "cell_type": "code",
   "source": [
    "wc_A = 4.069814 * (10**9) * 2 * np.pi  # cavity A frequency\n",
    "wc_B = 6.096062 * (10**9) * 2 * np.pi  # cavity A frequency\n",
    "wa =  5.325 * (10**9) * 2 * np.pi  # atom frequency\n",
    "dt_A = np.abs(wc_A - wa) / (2 * np.pi)\n",
    "dt_B = np.abs(wc_B - wa) / (2 * np.pi)\n",
    "chi_A = 0.00215 * (10**9) * 2 * np.pi\n",
    "chi_B = 0.00544 * (10**9) * 2 * np.pi\n",
    "g_A = np.sqrt(chi_A * dt_A) * 2 * np.pi  # coupling strength w/ cavity A\n",
    "g_B = np.sqrt(chi_B * dt_B) * 2 * np.pi  # coupling strength w/ cavity B\n",
    "\n",
    "gamma = 333333.333        # atom dissipation rate\n",
    "kappa_A = 10000       # cavity A dissipation rate\n",
    "kappa_B = 10000       # cavity B dissipation rate\n",
    "\n",
    "temp_q = 0.01        # avg number of thermal bath excitation for qubit\n",
    "temp_A = 0.04        # avg number of thermal bath excitation for cavity A\n",
    "temp_B = 0.05        # avg number of thermal bath excitation for cavity B\n",
    "\n",
    "tlist = np.linspace(0, 0.000003, 501)"
   ],
   "id": "1f2ee208be8924fb",
   "outputs": [],
   "execution_count": 41
  },
  {
   "metadata": {
    "ExecuteTime": {
     "end_time": "2024-08-04T07:26:29.159404Z",
     "start_time": "2024-08-04T07:26:29.137380Z"
    }
   },
   "cell_type": "code",
   "source": [
    "# Cost function\n",
    "def cost_q_e(final_expect, final_dm):\n",
    "    # print(final_expect[0])\n",
    "    return(final_expect[0])\n",
    "\n",
    "def cost_qA_g1(final_expect, final_dm):\n",
    "    # print(final_dm.full())\n",
    "    return np.abs(final_dm.full()[1][0])\n",
    "\n",
    "def cost_qAB_g11(final_expect, final_dm):\n",
    "    return np.abs(final_dm.full()[7][0])\n",
    "\n",
    "def cost_qAB_g11_n(final_expect, final_dm):\n",
    "    noise = (np.random.rand(1)[0] * 0.06) - 0.03\n",
    "    return np.abs(final_dm.full()[7][0]) + noise"
   ],
   "id": "32c5bb4c2a62f194",
   "outputs": [],
   "execution_count": 74
  },
  {
   "metadata": {
    "ExecuteTime": {
     "end_time": "2024-08-04T07:28:40.257403Z",
     "start_time": "2024-08-04T07:28:40.197389Z"
    }
   },
   "cell_type": "code",
   "source": [
    "# ========== OPTIONS ========== #\n",
    "max_segs = 20\n",
    "time_start = 0.0000000\n",
    "time_stop = 0.000001\n",
    "init_amp = 200000\n",
    "n_steps = 501\n",
    "\n",
    "num_drives = 3\n",
    "num_elems = 3\n",
    "num_cavities = 2\n",
    "cavity_dims = 8\n",
    "state_sizes = [2, cavity_dims, cavity_dims]\n",
    "state_vals = [0, 0, 0]\n",
    "init_freqs = [wa, wc_A, wc_B]\n",
    "sim_options = Options()\n",
    "element_freqs = [wa, wc_A, wc_B]\n",
    "output_cost_func = cost_qAB_g11_n\n",
    "elements = \"qAB\"\n",
    "range_len = 20\n",
    "start_split_num = 1\n",
    "n_seg_jump = 1\n",
    "verbose = True\n",
    "\n",
    "save_dir = 'save_data'\n",
    "hdf5_name = os.path.join(save_dir, time.strftime('g11-n02-%Y%m%d-%H%M%S.h5'))\n",
    "epochs = 1000\n",
    "epochs_per_seg = 300\n",
    "train_batch_size = 20\n",
    "qubit_amp_scale = 4\n",
    "cavity_amp_scale = 4\n",
    "freq_scale = 0.0005\n",
    "# ========== OPTIONS ========== #\n",
    "\n",
    "t_step = (time_stop - time_start) / n_steps\n",
    "\n",
    "qscale = []\n",
    "cscale = []\n",
    "for i in range(2):\n",
    "    qscale.append(init_amp * qubit_amp_scale)\n",
    "    cscale.append(init_amp * cavity_amp_scale)\n",
    "    cscale.append(init_amp * cavity_amp_scale)\n",
    "\n",
    "sm, a_A, a_B, sx, sz = reg_ops(num_cavities + 1, cavity_dims)\n",
    "drive_freqs = np.array(init_freqs)\n",
    "\n",
    "gammas = [gamma, kappa_A, kappa_B]\n",
    "temps = [temp_q, temp_A, temp_B]\n",
    "c_ops = [] # gen_c_ops(elements, [sm, a_A, a_B, sx, sz], gammas, temps)\n",
    "\n",
    "# Operators used in Hamiltonian\n",
    "drive_ops = [sm.dag(), sm, a_A.dag(), a_A, a_B.dag(), a_B]\n",
    "element_ops = [sz, a_A.dag() * a_A, a_B.dag() * a_B]\n",
    "H_0 = (chi_A * a_A.dag() * a_A * sz / 2) + (chi_B * a_B.dag() * a_B * sz / 2)\n",
    "eval_ops = [sm.dag() * sm, a_A.dag() * a_A, a_B.dag() * a_B] # [sm.dag() * sm, a_A.dag() * a_A, a_B.dag() * a_B] # [sm.dag() * sm, a_A.dag() * a_A, a_B.dag() * a_B, tensor(destroy(2) * destroy(2).dag(), destroy(cavity_dims).dag() * destroy(cavity_dims), destroy(cavity_dims).dag() * destroy(cavity_dims))]\n",
    "\n",
    "t_segs, amp_segs = setup_segs(2 * num_drives, time_start, time_stop, init_amp)\n",
    "amp_segs[:2, :] = 200000\n",
    "amp_segs[2:, :] = 200000\n",
    "\n",
    "# Setup initial state\n",
    "# init_state = build_psi(state_sizes, state_vals)\n",
    "init_state = tensor((basis(state_sizes[0], 0) * np.sqrt(1 - state_vals[0])) + (basis(state_sizes[0], 1) * np.sqrt(state_vals[0])), (basis(state_sizes[1], 0) * np.sqrt(1 - state_vals[1])) + (basis(state_sizes[1], 1) * np.sqrt(state_vals[1])), (basis(state_sizes[2], 0) * np.sqrt(1 - state_vals[2])) + (basis(state_sizes[2], 1) * np.sqrt(state_vals[2])))\n",
    "\n",
    "# Create blank history arrays for storing optimal / past values\n",
    "time_hist = []\n",
    "amp_hist = []\n",
    "freq_hist = []\n",
    "cost_hist = []"
   ],
   "id": "ee13c6064083c6d1",
   "outputs": [],
   "execution_count": 78
  },
  {
   "metadata": {
    "ExecuteTime": {
     "end_time": "2024-08-04T07:28:40.813382Z",
     "start_time": "2024-08-04T07:28:40.798383Z"
    }
   },
   "cell_type": "code",
   "source": [
    "# Split \"x\" times:\n",
    "for i in range(start_split_num - 1):\n",
    "    t_segs, amp_segs = split_segs(t_segs, amp_segs)"
   ],
   "id": "9e6b4decf3b3bdd1",
   "outputs": [],
   "execution_count": 79
  },
  {
   "metadata": {
    "ExecuteTime": {
     "end_time": "2024-08-05T05:02:21.030057Z",
     "start_time": "2024-08-04T07:28:46.277380Z"
    }
   },
   "cell_type": "code",
   "source": [
    "# Run vqe, etc\n",
    "hdf5_start_index = 0\n",
    "start_segs = 0\n",
    "for i in range(range_len):\n",
    "\n",
    "    temp_amp_scale = copy.deepcopy(amp_segs)\n",
    "    if np.shape(temp_amp_scale)[0] < 2:\n",
    "        temp_amp_scale[:, :] = np.vectorize(max)(np.abs(amp_segs * qubit_amp_scale), init_amp * np.ones(np.shape(amp_segs)) / qubit_amp_scale)\n",
    "    else:\n",
    "        temp_amp_scale[:2, :] = np.vectorize(max)(np.abs(amp_segs[:2] * qubit_amp_scale), init_amp * np.ones(np.shape(amp_segs[:2])) / qubit_amp_scale)\n",
    "        temp_amp_scale[2:, :] = np.vectorize(max)(np.abs(amp_segs[2:] * cavity_amp_scale), init_amp * np.ones(np.shape(amp_segs[2:])) / cavity_amp_scale)\n",
    "    temp_freq_scale = list(freq_scale * np.array(drive_freqs))\n",
    "    \n",
    "    client_args = [num_drives, num_elems, drive_ops, t_segs, t_step, H_0, init_state, c_ops, eval_ops, sim_options, element_ops, element_freqs, output_cost_func, verbose]\n",
    "    server_args = [(len(t_segs[0]) - 1) * epochs_per_seg, train_batch_size, amp_segs, drive_freqs, temp_amp_scale, temp_freq_scale, hdf5_name]\n",
    "\n",
    "    \n",
    "    # Save args for rl client\n",
    "    cf_name = \"temp_files/client_args.txt\"\n",
    "    with open(cf_name, \"wb\") as fp:\n",
    "        pickle.dump(client_args, fp)\n",
    "    fp.close()\n",
    "    \n",
    "    # Save args for rl server\n",
    "    sf_name = \"temp_files/server_args.txt\"\n",
    "    with open(sf_name, \"wb\") as fp:\n",
    "        pickle.dump(server_args, fp)\n",
    "    fp.close()\n",
    "    \n",
    "\n",
    "    os.system('cmd /c python ./run_rl_scripts.py')\n",
    "    \n",
    "    # Give time for files to be updated etc\n",
    "    time.sleep(1)\n",
    "    \n",
    "    opt_amps = []\n",
    "    opt_freqs = []\n",
    "    with h5py.File(hdf5_name, \"r\") as f:\n",
    "        opt_res_index = np.argmax(f[str(i + hdf5_start_index)][\"evaluation\"][\"rewards\"][()])\n",
    "        opt_result = f[str(i + hdf5_start_index)][\"evaluation\"][\"rewards\"][()][opt_res_index]\n",
    "        for j in range(2 * num_drives):\n",
    "            opt_amps.append([f[str(i + hdf5_start_index)][\"evaluation\"][\"actions\"][f'pulse_array_{j}'][()][opt_res_index]])\n",
    "        for j in range(num_drives):\n",
    "            opt_freqs.append(f[str(i + hdf5_start_index)][\"evaluation\"][\"actions\"][f'freq_{j}'][()][opt_res_index])\n",
    "    \n",
    "    # updates amplitudes and frequencies with optimized values and reshape\n",
    "    amp_segs = np.array(opt_amps)\n",
    "    amp_segs = np.reshape(amp_segs, (num_drives * 2, int(len(amp_segs.flatten()) / (num_drives * 2))))\n",
    "    \n",
    "    print(f'================')\n",
    "    print(f'num segs: {start_split_num + i + start_segs} ')\n",
    "    print(f'opt_amps: {amp_segs}')\n",
    "    print(f'opt_freqs: {opt_freqs}')\n",
    "    print(f'opt_result: {opt_result}')\n",
    "\n",
    "    # save values to history arrays\n",
    "    time_hist.append(t_segs)\n",
    "    amp_hist.append(amp_segs)\n",
    "    freq_hist.append(drive_freqs)\n",
    "    cost_hist.append(opt_result)\n",
    "\n",
    "    for i in range(2 * n_seg_jump):\n",
    "        qscale.append(init_amp * qubit_amp_scale)\n",
    "        cscale.append(init_amp * cavity_amp_scale)\n",
    "        cscale.append(init_amp * cavity_amp_scale)\n",
    "\n",
    "    # split segments and return to start of loop\n",
    "    if (i < max_segs - 1):\n",
    "        for i in range(n_seg_jump):\n",
    "            t_segs, amp_segs = split_segs(t_segs, amp_segs)"
   ],
   "id": "71902ea000d62b75",
   "outputs": [
    {
     "name": "stdout",
     "output_type": "stream",
     "text": [
      "================\n",
      "num segs: 1 \n",
      "opt_amps: [[187123.45 ]\n",
      " [110567.695]\n",
      " [308150.5  ]\n",
      " [266412.3  ]\n",
      " [238940.97 ]\n",
      " [142389.67 ]]\n",
      "opt_freqs: [33457957000.0, 25571758000.0, 38302920000.0]\n",
      "opt_result: [0.01971655]\n",
      "================\n",
      "num segs: 2 \n",
      "opt_amps: [[263286.88  102439.1  ]\n",
      " [  5278.297  17137.828]\n",
      " [207254.52  251184.   ]\n",
      " [261593.5   462029.12 ]\n",
      " [196924.55  210392.27 ]\n",
      " [138762.75  168566.58 ]]\n",
      "opt_freqs: [33455942000.0, 25569888000.0, 38302274000.0]\n",
      "opt_result: [0.01876541]\n",
      "================\n",
      "num segs: 3 \n",
      "opt_amps: [[ 166219.81    34690.234   51974.984]\n",
      " [  10541.666   13437.568    6968.001]\n",
      " [ -12419.516  151862.12  -435421.88 ]\n",
      " [ 546782.8    161618.4   1262458.2  ]\n",
      " [  26724.64    14322.797  228967.8  ]\n",
      " [ 186315.38   645906.25   197006.53 ]]\n",
      "opt_freqs: [33454232000.0, 25571957000.0, 38300840000.0]\n",
      "opt_result: [0.01989509]\n",
      "================\n",
      "num segs: 4 \n",
      "opt_amps: [[ 3.4856325e+05  4.6372879e+04  2.4555348e+04  8.9134984e+04]\n",
      " [-8.4681484e+03 -1.3444594e+04  3.1264020e+04  4.8239238e+03]\n",
      " [-8.0512534e+03  2.0852500e+03 -1.3674381e+05 -3.9526741e+05]\n",
      " [ 1.1617138e+06  3.6516562e+03  2.0049066e+05  8.8739794e+05]\n",
      " [ 2.5043016e+04 -3.5938750e+04  1.0378073e+04  3.9774506e+05]\n",
      " [ 8.8926859e+04  2.1775210e+06  2.9358716e+05  4.8094438e+05]]\n",
      "opt_freqs: [33455512000.0, 25565130000.0, 38307180000.0]\n",
      "opt_result: [0.02039272]\n",
      "================\n",
      "num segs: 5 \n",
      "opt_amps: [[ 3.6624156e+04  4.4754297e+02 -1.2000207e+04 -6.9122012e+03\n",
      "   1.5680850e+05]\n",
      " [ 6.1910264e+03 -2.3634277e+02  5.0092547e+04  1.2377088e+04\n",
      "   2.1290225e+03]\n",
      " [ 1.2091863e+04 -9.5735225e+03  2.5996564e+04 -7.2363883e+04\n",
      "  -2.1027688e+04]\n",
      " [-3.8626962e+05  4.8171494e+03 -7.1896055e+03 -9.4662125e+04\n",
      "   1.8873381e+05]\n",
      " [ 8.5300996e+03  3.0096980e+04 -7.3641438e+04  5.2273848e+03\n",
      "   7.7512775e+05]\n",
      " [ 2.6859262e+05  7.4197730e+06  5.0856050e+05  5.2792762e+05\n",
      "   6.4275838e+05]]\n",
      "opt_freqs: [33462063000.0, 25569761000.0, 38308545000.0]\n",
      "opt_result: [0.93923575]\n",
      "================\n",
      "num segs: 6 \n",
      "opt_amps: [[ 4.51189570e+04  1.51407275e+04 -3.15618789e+04 -6.33286035e+03\n",
      "   6.45883438e+04 -5.04753906e+04]\n",
      " [-5.78932324e+03 -3.07438398e+04  1.77268906e+05 -8.57082812e+04\n",
      "   2.26863594e+04 -4.64635156e+03]\n",
      " [-2.12286016e+04  1.40110205e+04  1.11179355e+04  6.43607812e+03\n",
      "  -8.35089844e+04 -7.51741113e+03]\n",
      " [-5.06557812e+04  1.05463760e+04 -1.85277002e+03 -5.15167969e+04\n",
      "   2.83747250e+05 -2.67630938e+04]\n",
      " [ 1.77460508e+04  5.06151250e+04  7.64231562e+04  2.19607754e+04\n",
      "   1.09183562e+05  2.43589950e+06]\n",
      " [-1.47350375e+05  9.34984900e+06  3.43871375e+05  2.11959550e+06\n",
      "  -7.14162500e+03  1.55987700e+06]]\n",
      "opt_freqs: [33463828000.0, 25575956000.0, 38304985000.0]\n",
      "opt_result: [0.97280973]\n",
      "================\n",
      "num segs: 7 \n",
      "opt_amps: [[ 2.8779633e+04 -1.0547449e+04  8.7700117e+03 -1.0053328e+05\n",
      "  -2.6169684e+04  1.7394312e+05 -2.6718416e+04]\n",
      " [ 8.9069932e+03 -1.0284314e+05  3.6282734e+05 -1.2544993e+05\n",
      "   2.5993078e+04  1.9239553e+04  1.0830604e+04]\n",
      " [-2.8242191e+04  1.8608809e+04  5.1551299e+03 -3.4240439e+03\n",
      "   2.7751575e+03 -5.6213031e+04  1.9547070e+02]\n",
      " [ 2.2111523e+03 -9.3232822e+03 -5.4606729e+03 -1.1858615e+05\n",
      "   3.4806738e+05 -1.2868628e+04 -6.7986266e+04]\n",
      " [ 3.5345859e+04  5.5888383e+04  2.0077894e+05  2.7006900e+05\n",
      "  -1.5259041e+04  3.2161609e+04  1.3923935e+06]\n",
      " [-4.4568694e+05  9.2709970e+06  4.9450075e+05  3.3434710e+06\n",
      "   5.0928135e+03 -1.2149764e+04  2.8754035e+06]]\n",
      "opt_freqs: [33462671000.0, 25575459000.0, 38306083000.0]\n",
      "opt_result: [0.992377]\n",
      "================\n",
      "num segs: 8 \n",
      "opt_amps: [[ 6.88876406e+04 -2.02932109e+04  2.80591582e+04 -3.14438438e+05\n",
      "  -6.91249414e+03 -3.05556699e+04  5.98955391e+04 -7.88904062e+04]\n",
      " [ 1.84841211e+04 -7.47689453e+04  4.29480781e+04  6.15744750e+05\n",
      "   6.84141484e+04 -4.49830938e+04 -1.99162051e+04  1.39945391e+04]\n",
      " [-4.81422578e+04  3.24795898e+04  1.18526387e+04 -8.71658691e+03\n",
      "   1.03380530e+03 -1.66395898e+04  1.64911348e+04  7.94577393e+03]\n",
      " [-1.23858301e+04 -3.01600156e+04 -3.28883516e+04 -1.64567297e+05\n",
      "   2.86970219e+05 -4.92071328e+04 -1.74730625e+04 -1.92159875e+05]\n",
      " [ 1.02973055e+05  1.35147852e+04  5.37766750e+05  2.78128875e+05\n",
      "   1.69177734e+03  2.35424727e+04  3.68910391e+04  1.38937562e+06]\n",
      " [-8.97533562e+05  8.85798100e+06  1.36501812e+05  7.26423800e+06\n",
      "  -2.18309570e+03  1.63361689e+04 -1.78053125e+04  7.01037100e+06]]\n",
      "opt_freqs: [33456118000.0, 25572086000.0, 38302556000.0]\n",
      "opt_result: [1.01205]\n",
      "================\n",
      "num segs: 9 \n",
      "opt_amps: [[-2.40885156e+03 -1.58282158e+04  3.39617852e+04  7.96433438e+04\n",
      "  -1.02148848e+04 -1.57932070e+04  2.12699125e+05 -5.20271875e+04\n",
      "  -9.24459375e+03]\n",
      " [-5.74057031e+03 -1.55838711e+04  2.53773164e+04  2.57243750e+03\n",
      "   7.65580312e+04 -3.16109805e+04 -5.13189766e+04 -2.47289883e+04\n",
      "   8.83528906e+03]\n",
      " [-1.14024367e+05  1.49851562e+03  2.34206055e+04  1.58776709e+04\n",
      "  -1.50450586e+04  4.35335000e+04 -6.18297852e+03  5.06542344e+04\n",
      "   8.38431250e+03]\n",
      " [-1.36774023e+04 -4.26295508e+04  6.59486250e+04 -4.66776000e+05\n",
      "   2.82013219e+05 -1.60809375e+04 -3.69693906e+04  2.02300586e+03\n",
      "  -6.52446797e+04]\n",
      " [ 1.95379188e+05 -4.39638672e+02  5.89340562e+05  2.17119484e+05\n",
      "  -2.49883438e+04  2.78193887e+04  6.45872109e+04  6.35212266e+04\n",
      "   1.40669238e+06]\n",
      " [-7.15568938e+05  9.21973000e+06  2.86917250e+05  7.82612250e+06\n",
      "  -1.15540713e+04  1.20945918e+04 -7.17973633e+02 -2.89076172e+03\n",
      "   7.22399800e+06]]\n",
      "opt_freqs: [33450883000.0, 25568428000.0, 38302224000.0]\n",
      "opt_result: [1.0151596]\n",
      "================\n",
      "num segs: 10 \n",
      "opt_amps: [[ 6.07893066e+02 -2.77545781e+04  3.74905820e+04  9.64713594e+04\n",
      "  -6.97728760e+03 -5.35117969e+03  2.11642766e+05 -1.11227641e+05\n",
      "  -3.51446777e+03 -8.99461426e+03]\n",
      " [-1.31932930e+04 -2.93972500e+04  4.96420938e+04  2.30787524e+03\n",
      "   7.00892344e+04  1.04692531e+05 -1.82130488e+04 -8.85236562e+04\n",
      "  -2.81290957e+04  7.50386426e+03]\n",
      " [-2.24692500e+04  9.32550195e+03  4.80329844e+04  2.11306172e+04\n",
      "  -2.63520918e+04 -1.22895635e+04  2.06511914e+04 -1.44160967e+04\n",
      "   5.85545352e+04  5.26485303e+03]\n",
      " [-1.38668809e+04 -1.50482715e+04  3.31858008e+04 -4.22495594e+05\n",
      "   1.56230625e+04 -2.95911680e+04  1.55996836e+04 -4.21490117e+04\n",
      "   1.66204609e+04 -6.86022031e+04]\n",
      " [ 1.92982125e+05  1.59280010e+04  5.78022750e+05  1.62491234e+05\n",
      "   5.07848242e+03  3.32250703e+04 -7.65691406e+02  5.14715547e+04\n",
      "   8.71335156e+03  2.53172875e+05]\n",
      " [-7.85810188e+05 -5.35948750e+04  9.97104600e+06  2.48964469e+05\n",
      "   8.82985600e+06 -1.63281191e+04  1.90428398e+04 -2.70964502e+03\n",
      "   4.59257617e+03  6.41436800e+06]]\n",
      "opt_freqs: [33452333000.0, 25569819000.0, 38303000000.0]\n",
      "opt_result: [1.0099955]\n"
     ]
    },
    {
     "ename": "KeyboardInterrupt",
     "evalue": "",
     "output_type": "error",
     "traceback": [
      "\u001B[1;31m---------------------------------------------------------------------------\u001B[0m",
      "\u001B[1;31mKeyboardInterrupt\u001B[0m                         Traceback (most recent call last)",
      "Cell \u001B[1;32mIn[80], line 31\u001B[0m\n\u001B[0;32m     27\u001B[0m     pickle\u001B[38;5;241m.\u001B[39mdump(server_args, fp)\n\u001B[0;32m     28\u001B[0m fp\u001B[38;5;241m.\u001B[39mclose()\n\u001B[1;32m---> 31\u001B[0m \u001B[43mos\u001B[49m\u001B[38;5;241;43m.\u001B[39;49m\u001B[43msystem\u001B[49m\u001B[43m(\u001B[49m\u001B[38;5;124;43m'\u001B[39;49m\u001B[38;5;124;43mcmd /c python ./run_rl_scripts.py\u001B[39;49m\u001B[38;5;124;43m'\u001B[39;49m\u001B[43m)\u001B[49m\n\u001B[0;32m     33\u001B[0m \u001B[38;5;66;03m# Give time for files to be updated etc\u001B[39;00m\n\u001B[0;32m     34\u001B[0m time\u001B[38;5;241m.\u001B[39msleep(\u001B[38;5;241m1\u001B[39m)\n",
      "\u001B[1;31mKeyboardInterrupt\u001B[0m: "
     ]
    }
   ],
   "execution_count": 80
  },
  {
   "metadata": {
    "ExecuteTime": {
     "end_time": "2024-07-30T04:45:40.609797Z",
     "start_time": "2024-07-30T04:45:40.581691Z"
    }
   },
   "cell_type": "code",
   "source": [
    "for i in range(n_seg_jump):\n",
    "            t_segs, amp_segs = split_segs(t_segs, amp_segs)"
   ],
   "id": "7d9b4726b7446cd3",
   "outputs": [],
   "execution_count": 21
  },
  {
   "metadata": {},
   "cell_type": "code",
   "source": "print(amp_segs)",
   "id": "f743b95adde6d870",
   "outputs": [],
   "execution_count": null
  },
  {
   "metadata": {},
   "cell_type": "code",
   "source": [
    "print(t_segs)\n",
    "print(amp_segs)"
   ],
   "id": "ec0613d5b20f39f2",
   "outputs": [],
   "execution_count": null
  },
  {
   "metadata": {
    "ExecuteTime": {
     "end_time": "2024-07-30T13:09:59.140292Z",
     "start_time": "2024-07-30T13:09:58.842291Z"
    }
   },
   "cell_type": "code",
   "source": "drive_pulse_plot(t_segs, amp_segs)",
   "id": "e60470ba990fd2ed",
   "outputs": [
    {
     "data": {
      "text/plain": [
       "<Figure size 640x480 with 1 Axes>"
      ],
      "image/png": "[encoded data removed]"
     },
     "metadata": {},
     "output_type": "display_data"
    }
   ],
   "execution_count": 10
  },
  {
   "metadata": {
    "ExecuteTime": {
     "end_time": "2024-07-30T13:10:04.729251Z",
     "start_time": "2024-07-30T13:10:04.117242Z"
    }
   },
   "cell_type": "code",
   "source": [
    "# Evolution of states over time\n",
    "print(amp_segs)\n",
    "x0 = np.append(amp_hist[0].flatten(), opt_freqs[0])\n",
    "print(f'x0: {x0}')\n",
    "args = [num_drives, num_elems, drive_ops, t_segs, t_step, H_0, init_state, c_ops, eval_ops, sim_options, element_ops, element_freqs, output_cost_func, verbose]\n",
    "# args[]\n",
    "# (num_drives, drive_ops, time_hist[-1], t_step, H_0, init_state, c_ops, eval_ops, sim_options, element_ops, element_freqs, output_cost_func, verbose)\n",
    "ti_state_plot(x0, *args)"
   ],
   "id": "4f6d4b065f3fa60c",
   "outputs": [
    {
     "name": "stdout",
     "output_type": "stream",
     "text": [
      "[[ 1.47097500e+05  4.34678320e+04  2.11682812e+03 -3.74416357e+03\n",
      "  -2.19897485e+03 -2.19897485e+03  9.94827637e+02  2.62260742e+01\n",
      "   5.18196106e+01 -8.00743332e+01 -8.00743332e+01 -2.95967432e+03\n",
      "  -1.45323914e+02 -3.20283032e+03  5.25662231e+01  2.70044023e+04\n",
      "   2.47761855e+04 -2.07656372e+02  5.96390430e+03]\n",
      " [-2.09224156e+05 -1.87897595e+03 -5.08111719e+03  6.19860312e+04\n",
      "  -9.65163452e+02 -9.65163452e+02 -1.01442531e+05 -2.22233275e+06\n",
      "  -2.58982375e+06  2.51408125e+05 -7.87024250e+05 -1.77708100e+06\n",
      "  -8.40678875e+05 -8.40678875e+05 -5.12949492e+04 -1.31681030e+02\n",
      "  -1.09604691e+02 -8.84888281e+03 -5.60991172e+04]\n",
      " [-2.03025203e+05  3.40480273e+03  1.15721125e+05  1.34487638e+06\n",
      "  -2.23423344e+05  2.39326680e+04  3.14440275e+06  1.09494350e+06\n",
      "   7.95814688e+05  7.30395625e+05  1.25069414e+05  5.81266438e+05\n",
      "   2.00908900e+06  6.59775250e+05  6.59775250e+05 -5.56865664e+04\n",
      "   9.00226562e+03  2.36678477e+04  2.36678477e+04]\n",
      " [ 8.88956875e+05  3.92358469e+05 -9.35226875e+04 -1.31870239e+03\n",
      "  -2.15072227e+04 -4.21869922e+03 -3.60857812e+03 -3.59450488e+03\n",
      "   3.42715781e+04  5.00060898e+04  7.69986406e+04  2.72767310e+03\n",
      "   2.72767310e+03 -2.41189344e+05 -2.41189344e+05 -6.73833750e+04\n",
      "   3.22605977e+04  3.94996582e+03  9.23864062e+04]\n",
      " [-1.40179219e+05 -1.40179219e+05 -2.22261350e+06  2.15360844e+05\n",
      "   5.29140117e+04  1.98352797e+05 -1.77478438e+04  2.65966531e+05\n",
      "   1.62789688e+04 -8.09518457e+03 -1.68284424e+03  1.40006885e+03\n",
      "   1.34514355e+03  4.36589188e+05 -3.38968700e+06 -3.38968700e+06\n",
      "  -4.66181200e+06 -1.21836212e+06 -2.23730050e+06]\n",
      " [ 7.32735352e+02  3.19309562e+05  3.66362438e+05  6.53061328e+03\n",
      "   4.61898550e+06  4.30024550e+06  4.30024550e+06  6.41300900e+06\n",
      "  -4.82188125e+05  4.92366016e+04  4.99488867e+04  3.69868031e+05\n",
      "   4.73221562e+04 -1.92227488e+06 -2.37023281e+05 -2.71721680e+04\n",
      "  -1.70895906e+05 -1.70895906e+05  1.36096816e+04]]\n",
      "x0: [ 1.4254578e+04 -3.9284609e+04  5.4642731e+05  2.0177173e+05\n",
      "  9.3792262e+05  3.6320097e+05  3.3452132e+10]\n"
     ]
    },
    {
     "ename": "ValueError",
     "evalue": "cannot reshape array of size 4 into shape (6,0)",
     "output_type": "error",
     "traceback": [
      "\u001B[1;31m---------------------------------------------------------------------------\u001B[0m",
      "\u001B[1;31mValueError\u001B[0m                                Traceback (most recent call last)",
      "Cell \u001B[1;32mIn[11], line 8\u001B[0m\n\u001B[0;32m      5\u001B[0m args \u001B[38;5;241m=\u001B[39m [num_drives, num_elems, drive_ops, t_segs, t_step, H_0, init_state, c_ops, eval_ops, sim_options, element_ops, element_freqs, output_cost_func, verbose]\n\u001B[0;32m      6\u001B[0m \u001B[38;5;66;03m# args[]\u001B[39;00m\n\u001B[0;32m      7\u001B[0m \u001B[38;5;66;03m# (num_drives, drive_ops, time_hist[-1], t_step, H_0, init_state, c_ops, eval_ops, sim_options, element_ops, element_freqs, output_cost_func, verbose)\u001B[39;00m\n\u001B[1;32m----> 8\u001B[0m \u001B[43mti_state_plot\u001B[49m\u001B[43m(\u001B[49m\u001B[43mx0\u001B[49m\u001B[43m,\u001B[49m\u001B[43m \u001B[49m\u001B[38;5;241;43m*\u001B[39;49m\u001B[43margs\u001B[49m\u001B[43m)\u001B[49m\n",
      "File \u001B[1;32m~\\Documents\\GitLab\\quantum_control_rl_server\\utils\\opt_utils.py:453\u001B[0m, in \u001B[0;36mti_state_plot\u001B[1;34m(opts, *args)\u001B[0m\n\u001B[0;32m    451\u001B[0m     drive_freqs \u001B[38;5;241m=\u001B[39m []\n\u001B[0;32m    452\u001B[0m \u001B[38;5;28;01melse\u001B[39;00m:\n\u001B[1;32m--> 453\u001B[0m     amp_mat \u001B[38;5;241m=\u001B[39m \u001B[43mnp\u001B[49m\u001B[38;5;241;43m.\u001B[39;49m\u001B[43mreshape\u001B[49m\u001B[43m(\u001B[49m\u001B[43mopts\u001B[49m\u001B[43m[\u001B[49m\u001B[43m:\u001B[49m\u001B[38;5;241;43m-\u001B[39;49m\u001B[43mnum_elems\u001B[49m\u001B[43m]\u001B[49m\u001B[43m,\u001B[49m\u001B[43m \u001B[49m\u001B[43m(\u001B[49m\u001B[43mnum_drives\u001B[49m\u001B[43m \u001B[49m\u001B[38;5;241;43m*\u001B[39;49m\u001B[43m \u001B[49m\u001B[38;5;241;43m2\u001B[39;49m\u001B[43m,\u001B[49m\u001B[43m \u001B[49m\u001B[38;5;28;43mint\u001B[39;49m\u001B[43m(\u001B[49m\u001B[43m(\u001B[49m\u001B[38;5;28;43mlen\u001B[39;49m\u001B[43m(\u001B[49m\u001B[43mopts\u001B[49m\u001B[43m)\u001B[49m\u001B[43m \u001B[49m\u001B[38;5;241;43m-\u001B[39;49m\u001B[43m \u001B[49m\u001B[43mnum_elems\u001B[49m\u001B[43m)\u001B[49m\u001B[43m \u001B[49m\u001B[38;5;241;43m/\u001B[39;49m\u001B[43m \u001B[49m\u001B[43m(\u001B[49m\u001B[38;5;241;43m2\u001B[39;49m\u001B[43m \u001B[49m\u001B[38;5;241;43m*\u001B[39;49m\u001B[43m \u001B[49m\u001B[43mnum_drives\u001B[49m\u001B[43m)\u001B[49m\u001B[43m)\u001B[49m\u001B[43m)\u001B[49m\u001B[43m)\u001B[49m\n\u001B[0;32m    454\u001B[0m     drive_freqs \u001B[38;5;241m=\u001B[39m opts[\u001B[38;5;241m-\u001B[39mnum_elems:]\n\u001B[0;32m    455\u001B[0m \u001B[38;5;28;01mif\u001B[39;00m verbose:\n",
      "File \u001B[1;32m<__array_function__ internals>:5\u001B[0m, in \u001B[0;36mreshape\u001B[1;34m(*args, **kwargs)\u001B[0m\n",
      "File \u001B[1;32m~\\anaconda3\\envs\\qcrl-server\\lib\\site-packages\\numpy\\core\\fromnumeric.py:299\u001B[0m, in \u001B[0;36mreshape\u001B[1;34m(a, newshape, order)\u001B[0m\n\u001B[0;32m    199\u001B[0m \u001B[38;5;129m@array_function_dispatch\u001B[39m(_reshape_dispatcher)\n\u001B[0;32m    200\u001B[0m \u001B[38;5;28;01mdef\u001B[39;00m \u001B[38;5;21mreshape\u001B[39m(a, newshape, order\u001B[38;5;241m=\u001B[39m\u001B[38;5;124m'\u001B[39m\u001B[38;5;124mC\u001B[39m\u001B[38;5;124m'\u001B[39m):\n\u001B[0;32m    201\u001B[0m     \u001B[38;5;124;03m\"\"\"\u001B[39;00m\n\u001B[0;32m    202\u001B[0m \u001B[38;5;124;03m    Gives a new shape to an array without changing its data.\u001B[39;00m\n\u001B[0;32m    203\u001B[0m \n\u001B[1;32m   (...)\u001B[0m\n\u001B[0;32m    297\u001B[0m \u001B[38;5;124;03m           [5, 6]])\u001B[39;00m\n\u001B[0;32m    298\u001B[0m \u001B[38;5;124;03m    \"\"\"\u001B[39;00m\n\u001B[1;32m--> 299\u001B[0m     \u001B[38;5;28;01mreturn\u001B[39;00m \u001B[43m_wrapfunc\u001B[49m\u001B[43m(\u001B[49m\u001B[43ma\u001B[49m\u001B[43m,\u001B[49m\u001B[43m \u001B[49m\u001B[38;5;124;43m'\u001B[39;49m\u001B[38;5;124;43mreshape\u001B[39;49m\u001B[38;5;124;43m'\u001B[39;49m\u001B[43m,\u001B[49m\u001B[43m \u001B[49m\u001B[43mnewshape\u001B[49m\u001B[43m,\u001B[49m\u001B[43m \u001B[49m\u001B[43morder\u001B[49m\u001B[38;5;241;43m=\u001B[39;49m\u001B[43morder\u001B[49m\u001B[43m)\u001B[49m\n",
      "File \u001B[1;32m~\\anaconda3\\envs\\qcrl-server\\lib\\site-packages\\numpy\\core\\fromnumeric.py:58\u001B[0m, in \u001B[0;36m_wrapfunc\u001B[1;34m(obj, method, *args, **kwds)\u001B[0m\n\u001B[0;32m     55\u001B[0m     \u001B[38;5;28;01mreturn\u001B[39;00m _wrapit(obj, method, \u001B[38;5;241m*\u001B[39margs, \u001B[38;5;241m*\u001B[39m\u001B[38;5;241m*\u001B[39mkwds)\n\u001B[0;32m     57\u001B[0m \u001B[38;5;28;01mtry\u001B[39;00m:\n\u001B[1;32m---> 58\u001B[0m     \u001B[38;5;28;01mreturn\u001B[39;00m \u001B[43mbound\u001B[49m\u001B[43m(\u001B[49m\u001B[38;5;241;43m*\u001B[39;49m\u001B[43margs\u001B[49m\u001B[43m,\u001B[49m\u001B[43m \u001B[49m\u001B[38;5;241;43m*\u001B[39;49m\u001B[38;5;241;43m*\u001B[39;49m\u001B[43mkwds\u001B[49m\u001B[43m)\u001B[49m\n\u001B[0;32m     59\u001B[0m \u001B[38;5;28;01mexcept\u001B[39;00m \u001B[38;5;167;01mTypeError\u001B[39;00m:\n\u001B[0;32m     60\u001B[0m     \u001B[38;5;66;03m# A TypeError occurs if the object does have such a method in its\u001B[39;00m\n\u001B[0;32m     61\u001B[0m     \u001B[38;5;66;03m# class, but its signature is not identical to that of NumPy's. This\u001B[39;00m\n\u001B[1;32m   (...)\u001B[0m\n\u001B[0;32m     65\u001B[0m     \u001B[38;5;66;03m# Call _wrapit from within the except clause to ensure a potential\u001B[39;00m\n\u001B[0;32m     66\u001B[0m     \u001B[38;5;66;03m# exception has a traceback chain.\u001B[39;00m\n\u001B[0;32m     67\u001B[0m     \u001B[38;5;28;01mreturn\u001B[39;00m _wrapit(obj, method, \u001B[38;5;241m*\u001B[39margs, \u001B[38;5;241m*\u001B[39m\u001B[38;5;241m*\u001B[39mkwds)\n",
      "\u001B[1;31mValueError\u001B[0m: cannot reshape array of size 4 into shape (6,0)"
     ]
    }
   ],
   "execution_count": 11
  },
  {
   "metadata": {},
   "cell_type": "code",
   "source": "print(cost_hist)",
   "id": "e83fa5326d404673",
   "outputs": [],
   "execution_count": null
  },
  {
   "metadata": {},
   "cell_type": "code",
   "source": "print(opt_result)",
   "id": "6764d455e6bd3630",
   "outputs": [],
   "execution_count": null
  },
  {
   "metadata": {},
   "cell_type": "code",
   "source": "a = basis(2, 0)",
   "id": "19bfc07ce83f6e1f",
   "outputs": [],
   "execution_count": null
  },
  {
   "metadata": {},
   "cell_type": "code",
   "source": "print(a.full())",
   "id": "1c7980500b9d69f3",
   "outputs": [],
   "execution_count": null
  },
  {
   "metadata": {},
   "cell_type": "code",
   "source": "",
   "id": "a833dbddd4c14e7d",
   "outputs": [],
   "execution_count": null
  }
 ],
 "metadata": {
  "kernelspec": {
   "display_name": "Python 3",
   "language": "python",
   "name": "python3"
  },
  "language_info": {
   "codemirror_mode": {
    "name": "ipython",
    "version": 2
   },
   "file_extension": ".py",
   "mimetype": "text/x-python",
   "name": "python",
   "nbconvert_exporter": "python",
   "pygments_lexer": "ipython2",
   "version": "2.7.6"
  }
 },
 "nbformat": 4,
 "nbformat_minor": 5
}
