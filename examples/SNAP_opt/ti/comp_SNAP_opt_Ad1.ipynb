{
 "cells": [
  {
   "cell_type": "code",
   "id": "initial_id",
   "metadata": {
    "collapsed": true,
    "ExecuteTime": {
     "end_time": "2024-11-20T13:23:04.258999Z",
     "start_time": "2024-11-20T13:23:02.579998Z"
    }
   },
   "source": [
    "import numpy as np\n",
    "import matplotlib.pyplot as plt\n",
    "from utils.opt_utils import *\n",
    "import h5py\n",
    "import pickle\n",
    "from qutip import *\n",
    "import time\n",
    "import tqdm"
   ],
   "outputs": [],
   "execution_count": 1
  },
  {
   "metadata": {
    "ExecuteTime": {
     "end_time": "2024-11-20T13:23:04.970081Z",
     "start_time": "2024-11-20T13:23:04.944997Z"
    }
   },
   "cell_type": "code",
   "source": [
    "wc_A = 4.069814 * (10**9) * 2 * np.pi  # cavity A frequency\n",
    "wc_B = 6.096062 * (10**9) * 2 * np.pi  # cavity A frequency\n",
    "wa =  5.325 * (10**9) * 2 * np.pi  # atom frequency\n",
    "dt_A = np.abs(wc_A - wa) / (2 * np.pi)\n",
    "dt_B = np.abs(wc_B - wa) / (2 * np.pi)\n",
    "chi_A = 0.00215 * (10**9) * 2 * np.pi\n",
    "chi_B = 0.00544 * (10**9) * 2 * np.pi\n",
    "g_A = np.sqrt(chi_A * dt_A) * 2 * np.pi  # coupling strength w/ cavity A\n",
    "g_B = np.sqrt(chi_B * dt_B) * 2 * np.pi  # coupling strength w/ cavity B\n",
    "\n",
    "gamma = 333333.333        # atom dissipation rate\n",
    "kappa_A = 10000       # cavity A dissipation rate\n",
    "kappa_B = 10000       # cavity B dissipation rate\n",
    "\n",
    "temp_q = 0.01        # avg number of thermal bath excitation for qubit\n",
    "temp_A = 0.04        # avg number of thermal bath excitation for cavity A\n",
    "temp_B = 0.05        # avg number of thermal bath excitation for cavity B"
   ],
   "id": "a82582ea3de7bbe3",
   "outputs": [],
   "execution_count": 2
  },
  {
   "metadata": {
    "ExecuteTime": {
     "end_time": "2024-11-20T13:23:05.723079Z",
     "start_time": "2024-11-20T13:23:05.709078Z"
    }
   },
   "cell_type": "code",
   "source": [
    "cavity_dims = 6\n",
    "\n",
    "def cost_q_e(final_expect, final_state):\n",
    "    return  np.power(np.abs(final_state[cavity_dims]), 2)\n",
    "\n",
    "def cost_qA_g1(final_expect, final_state):\n",
    "    return np.power(np.abs(final_state[1][0]), 2)"
   ],
   "id": "88ee3728dd374385",
   "outputs": [],
   "execution_count": 3
  },
  {
   "metadata": {
    "ExecuteTime": {
     "end_time": "2024-11-20T13:23:06.940077Z",
     "start_time": "2024-11-20T13:23:06.902078Z"
    }
   },
   "cell_type": "code",
   "source": [
    "max_segs = 20\n",
    "us = 0.000001\n",
    "time_start = 0.0000000\n",
    "time_stop = 1 * us\n",
    "init_amp = 4000000\n",
    "n_steps = 501\n",
    "\n",
    "\n",
    "num_drives = 2\n",
    "num_elems = 2\n",
    "num_cavities = 1\n",
    "# cavity_dims = 8\n",
    "state_sizes = [2, cavity_dims]\n",
    "state_vals = [0, 0]\n",
    "sim_options = Options()\n",
    "element_freqs = [wa, wc_A]\n",
    "output_cost_func = cost_qA_g1\n",
    "verbose = True\n",
    "\n",
    "\n",
    "t_arr = np.linspace(time_start, time_stop, n_steps)\n",
    "\n",
    "t_step = (time_stop - time_start) / n_steps\n",
    "\n",
    "sim_options.store_final_state = True\n",
    "\n",
    "sm, a_A, a_B, sx, sz = reg_ops(num_cavities + 1, cavity_dims)\n",
    "drive_freqs = np.array(element_freqs)\n",
    "\n",
    "gammas = [gamma, kappa_A]\n",
    "temps = [temp_q, temp_A]\n",
    "c_ops = [] # gen_c_ops(elements, [sm, a_A, a_B, sx, sz], gammas, temps)\n",
    "\n",
    "# Operators used in Hamiltonian\n",
    "drive_ops = [sm.dag(), sm, a_A.dag(), a_A]\n",
    "element_ops = [sz, a_A.dag() * a_A]\n",
    "H_0 = (chi_A * a_A.dag() * a_A * sz / 2)\n",
    "eval_ops = [sm.dag() * sm, a_A.dag() * a_A]\n",
    "\n",
    "init_state = tensor((basis(state_sizes[0], 0) * np.sqrt(1 - state_vals[0])) + (basis(state_sizes[0], 1) * np.sqrt(state_vals[0])), (basis(state_sizes[1], 0) * np.sqrt(1 - state_vals[1])) + (basis(state_sizes[1], 1) * np.sqrt(state_vals[1])))\n",
    "\n",
    "client_args = [num_drives, drive_ops, element_freqs, H_0, init_state, t_arr, eval_ops, sim_options, output_cost_func, verbose, time_start, time_stop]"
   ],
   "id": "484508a41d932a5f",
   "outputs": [],
   "execution_count": 4
  },
  {
   "metadata": {
    "ExecuteTime": {
     "end_time": "2024-11-20T13:23:29.311597Z",
     "start_time": "2024-11-20T13:23:29.294597Z"
    }
   },
   "cell_type": "code",
   "source": [
    "freqs = np.array(element_freqs)\n",
    "\n",
    "N_segs = 20\n",
    "amp_times = np.linspace(time_start, time_stop, N_segs + 1)\n",
    "\n",
    "times = np.array([amp_times, amp_times, amp_times, amp_times])"
   ],
   "id": "2f9ba6b3a3684639",
   "outputs": [],
   "execution_count": 7
  },
  {
   "metadata": {
    "jupyter": {
     "is_executing": true
    },
    "ExecuteTime": {
     "start_time": "2024-11-20T13:51:14.260003Z"
    }
   },
   "cell_type": "code",
   "source": [
    "A_i = 0\n",
    "A_f = 10000000\n",
    "N_amp = 101\n",
    "\n",
    "verbose = False\n",
    "\n",
    "client_args = [num_drives, drive_ops, element_freqs, H_0, init_state, t_arr, eval_ops, sim_options, output_cost_func, verbose, time_start, time_stop]\n",
    "\n",
    "q_pi_sigma = 0.25 * us\n",
    "A1_pi_sigma = 0.05 * us\n",
    "\n",
    "A_arr = np.linspace(A_i, A_f, N_amp)\n",
    "\n",
    "costs = []\n",
    "\n",
    "for A in tqdm.tqdm(A_arr):\n",
    "    amp_funcs = [[zero], [zero],\n",
    "                 [gauss_gen(A, (time_start + time_stop) / 8, A1_pi_sigma, 1)], [zero]]\n",
    "    amp_func = [func_sum(amp_funcs[i]) for i in range(len(amp_funcs))]\n",
    "    \n",
    "    amp_pts = np.array([amp_func[i](amp_times) for i in range(len(amp_func))])\n",
    "    # print(amp_pts)\n",
    "    \n",
    "    for i in range(len(amp_func)):\n",
    "        plt.plot(amp_times, amp_pts[i], label=f'A: {A}')\n",
    "    \n",
    "    client_opts = np.append(np.append(amp_pts[:, 1:-1].flatten(), times[:, 1:-1].flatten()), freqs)\n",
    "    \n",
    "    res = sim_interp_cost_eval(client_opts, *client_args)\n",
    "    costs.append(res[0])\n",
    "    # print(f'Amp: {A}, cost: {res[0][0]}')\n",
    "plt.show()"
   ],
   "id": "475038865a574085",
   "outputs": [
    {
     "name": "stderr",
     "output_type": "stream",
     "text": [
      "  7%|▋         | 7/101 [02:33<42:00, 26.81s/it]"
     ]
    }
   ],
   "execution_count": null
  },
  {
   "metadata": {
    "ExecuteTime": {
     "end_time": "2024-11-20T13:13:27.218475Z",
     "start_time": "2024-11-20T13:13:27.043473Z"
    }
   },
   "cell_type": "code",
   "source": [
    "plt.plot(A_arr, costs)\n",
    "plt.show()"
   ],
   "id": "275cfb9b27e9823d",
   "outputs": [
    {
     "data": {
      "text/plain": [
       "<Figure size 640x480 with 1 Axes>"
      ],
      "image/png": "[encoded data removed]"
     },
     "metadata": {},
     "output_type": "display_data"
    }
   ],
   "execution_count": 36
  },
  {
   "metadata": {},
   "cell_type": "code",
   "outputs": [],
   "execution_count": null,
   "source": "",
   "id": "38cf099f69266c92"
  }
 ],
 "metadata": {
  "kernelspec": {
   "display_name": "Python 3",
   "language": "python",
   "name": "python3"
  },
  "language_info": {
   "codemirror_mode": {
    "name": "ipython",
    "version": 2
   },
   "file_extension": ".py",
   "mimetype": "text/x-python",
   "name": "python",
   "nbconvert_exporter": "python",
   "pygments_lexer": "ipython2",
   "version": "2.7.6"
  }
 },
 "nbformat": 4,
 "nbformat_minor": 5
}
