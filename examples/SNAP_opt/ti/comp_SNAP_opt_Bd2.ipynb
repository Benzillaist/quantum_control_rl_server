{
 "cells": [
  {
   "cell_type": "code",
   "id": "initial_id",
   "metadata": {
    "collapsed": true,
    "ExecuteTime": {
     "end_time": "2024-11-20T13:53:09.757054Z",
     "start_time": "2024-11-20T13:53:05.493054Z"
    }
   },
   "source": [
    "import numpy as np\n",
    "import matplotlib.pyplot as plt\n",
    "from utils.opt_utils import *\n",
    "import h5py\n",
    "import pickle\n",
    "from qutip import *\n",
    "import time\n",
    "import tqdm"
   ],
   "outputs": [],
   "execution_count": 2
  },
  {
   "metadata": {
    "ExecuteTime": {
     "end_time": "2024-11-20T13:53:09.788054Z",
     "start_time": "2024-11-20T13:53:09.761053Z"
    }
   },
   "cell_type": "code",
   "source": [
    "wc_A = 4.069814 * (10**9) * 2 * np.pi  # cavity A frequency\n",
    "wc_B = 6.096062 * (10**9) * 2 * np.pi  # cavity A frequency\n",
    "wa =  5.325 * (10**9) * 2 * np.pi  # atom frequency\n",
    "dt_A = np.abs(wc_A - wa) / (2 * np.pi)\n",
    "dt_B = np.abs(wc_B - wa) / (2 * np.pi)\n",
    "chi_A = 0.00215 * (10**9) * 2 * np.pi\n",
    "chi_B = 0.00544 * (10**9) * 2 * np.pi\n",
    "g_A = np.sqrt(chi_A * dt_A) * 2 * np.pi  # coupling strength w/ cavity A\n",
    "g_B = np.sqrt(chi_B * dt_B) * 2 * np.pi  # coupling strength w/ cavity B\n",
    "\n",
    "gamma = 333333.333        # atom dissipation rate\n",
    "kappa_A = 10000       # cavity A dissipation rate\n",
    "kappa_B = 10000       # cavity B dissipation rate\n",
    "\n",
    "temp_q = 0.01        # avg number of thermal bath excitation for qubit\n",
    "temp_A = 0.04        # avg number of thermal bath excitation for cavity A\n",
    "temp_B = 0.05        # avg number of thermal bath excitation for cavity B"
   ],
   "id": "a82582ea3de7bbe3",
   "outputs": [],
   "execution_count": 3
  },
  {
   "metadata": {
    "ExecuteTime": {
     "end_time": "2024-11-20T13:53:09.804054Z",
     "start_time": "2024-11-20T13:53:09.791055Z"
    }
   },
   "cell_type": "code",
   "source": [
    "cavity_dims = 6\n",
    "\n",
    "def cost_q_e(final_expect, final_state):\n",
    "    return  np.power(np.abs(final_state[cavity_dims]), 2)\n",
    "\n",
    "def cost_qA_g1(final_expect, final_state):\n",
    "    return np.power(np.abs(final_state[1][0]), 2)"
   ],
   "id": "88ee3728dd374385",
   "outputs": [],
   "execution_count": 4
  },
  {
   "metadata": {
    "ExecuteTime": {
     "end_time": "2024-11-20T13:53:09.853056Z",
     "start_time": "2024-11-20T13:53:09.809054Z"
    }
   },
   "cell_type": "code",
   "source": [
    "max_segs = 20\n",
    "us = 0.000001\n",
    "time_start = 0.0000000\n",
    "time_stop = 2 * us\n",
    "init_amp = 4000000\n",
    "n_steps = 501\n",
    "\n",
    "\n",
    "num_drives = 2\n",
    "num_elems = 2\n",
    "num_cavities = 1\n",
    "# cavity_dims = 8\n",
    "state_sizes = [2, cavity_dims]\n",
    "state_vals = [0, 0]\n",
    "sim_options = Options()\n",
    "element_freqs = [wa, wc_B]\n",
    "output_cost_func = cost_qA_g1\n",
    "verbose = True\n",
    "\n",
    "\n",
    "t_arr = np.linspace(time_start, time_stop, n_steps)\n",
    "\n",
    "t_step = (time_stop - time_start) / n_steps\n",
    "\n",
    "sim_options.store_final_state = True\n",
    "\n",
    "sm, a_B, a_A, sx, sz = reg_ops(num_cavities + 1, cavity_dims)\n",
    "drive_freqs = np.array(element_freqs)\n",
    "\n",
    "gammas = [gamma, kappa_B]\n",
    "temps = [temp_q, temp_B]\n",
    "c_ops = [] # gen_c_ops(elements, [sm, a_A, a_B, sx, sz], gammas, temps)\n",
    "\n",
    "# Operators used in Hamiltonian\n",
    "drive_ops = [sm.dag(), sm, a_B.dag(), a_B]\n",
    "element_ops = [sz, a_B.dag() * a_B]\n",
    "H_0 = (chi_B * a_B.dag() * a_B * sz / 2)\n",
    "eval_ops = [sm.dag() * sm, a_B.dag() * a_B]\n",
    "\n",
    "init_state = tensor((basis(state_sizes[0], 0) * np.sqrt(1 - state_vals[0])) + (basis(state_sizes[0], 1) * np.sqrt(state_vals[0])), (basis(state_sizes[1], 0) * np.sqrt(1 - state_vals[1])) + (basis(state_sizes[1], 1) * np.sqrt(state_vals[1])))\n",
    "\n",
    "client_args = [num_drives, drive_ops, element_freqs, H_0, init_state, t_arr, eval_ops, sim_options, output_cost_func, verbose, time_start, time_stop]"
   ],
   "id": "484508a41d932a5f",
   "outputs": [],
   "execution_count": 5
  },
  {
   "metadata": {
    "ExecuteTime": {
     "end_time": "2024-11-20T13:54:57.237228Z",
     "start_time": "2024-11-20T13:54:57.223228Z"
    }
   },
   "cell_type": "code",
   "source": [
    "freqs = np.array(element_freqs)\n",
    "\n",
    "N_segs = 100\n",
    "amp_times = np.linspace(time_start, time_stop, N_segs + 1)\n",
    "\n",
    "times = np.array([amp_times, amp_times, amp_times, amp_times])"
   ],
   "id": "2f9ba6b3a3684639",
   "outputs": [],
   "execution_count": 18
  },
  {
   "metadata": {
    "ExecuteTime": {
     "end_time": "2024-11-20T14:28:52.495604Z",
     "start_time": "2024-11-20T14:28:49.934603Z"
    }
   },
   "cell_type": "code",
   "source": [
    "A_i = 0\n",
    "A_f = 20000000\n",
    "N_amp = 51\n",
    "\n",
    "verbose = False\n",
    "\n",
    "client_args = [num_drives, drive_ops, element_freqs, H_0, init_state, t_arr, eval_ops, sim_options, output_cost_func, verbose, time_start, time_stop]\n",
    "\n",
    "q_pi_sigma = 0.25 * us\n",
    "A1_pi_sigma = 0.05 * us\n",
    "A2_pi_sigma = 0.05 * us\n",
    "B1_pi_sigma = 0.05 * us\n",
    "B2_pi_sigma = 0.05 * us\n",
    "\n",
    "q_pi_amp = 2507175\n",
    "A1_pi_amp = 0\n",
    "A2_pi_amp = 0\n",
    "B1_pi_amp = 0\n",
    "B2_pi_amp = 0\n",
    "\n",
    "A_arr = np.linspace(A_i, A_f, N_amp)\n",
    "\n",
    "costs = []\n",
    "\n",
    "for A in tqdm.tqdm(A_arr):\n",
    "    amp_funcs = [[gauss_gen(A, (time_start + time_stop) / 2, q_pi_sigma, 1)], [zero],\n",
    "                 [gauss_gen(A, (time_start + time_stop) / 8, B1_pi_sigma, 1), \n",
    "                  gauss_gen(A, (time_start + time_stop) / 8, B2_pi_sigma, 1)], [zero]]\n",
    "    amp_func = [func_sum(amp_funcs[i]) for i in range(len(amp_funcs))]\n",
    "    \n",
    "    amp_pts = np.array([amp_func[i](amp_times) for i in range(len(amp_func))])\n",
    "    # print(amp_pts)\n",
    "    \n",
    "    # for i in range(len(amp_func)):\n",
    "    #     plt.plot(amp_times, amp_pts[i], label=f'A: {A}, drive: {i}')\n",
    "    \n",
    "    client_opts = np.append(np.append(amp_pts[:, 1:-1].flatten(), times[:, 1:-1].flatten()), freqs)\n",
    "    \n",
    "    res = sim_interp_cost_eval(client_opts, *client_args)\n",
    "    costs.append(res[0])\n",
    "    # print(f'Amp: {A}, cost: {res[0][0]}')\n",
    "plt.show()"
   ],
   "id": "475038865a574085",
   "outputs": [],
   "execution_count": null
  },
  {
   "metadata": {
    "ExecuteTime": {
     "end_time": "2024-11-20T13:53:23.560572Z",
     "start_time": "2024-11-20T13:53:18.730573Z"
    }
   },
   "cell_type": "code",
   "source": [
    "plt.plot(A_arr, costs)\n",
    "plt.show()"
   ],
   "id": "275cfb9b27e9823d",
   "outputs": [
    {
     "ename": "ValueError",
     "evalue": "x and y must have same first dimension, but have shapes (101,) and (1,)",
     "output_type": "error",
     "traceback": [
      "\u001B[1;31m---------------------------------------------------------------------------\u001B[0m",
      "\u001B[1;31mValueError\u001B[0m                                Traceback (most recent call last)",
      "Cell \u001B[1;32mIn[8], line 1\u001B[0m\n\u001B[1;32m----> 1\u001B[0m \u001B[43mplt\u001B[49m\u001B[38;5;241;43m.\u001B[39;49m\u001B[43mplot\u001B[49m\u001B[43m(\u001B[49m\u001B[43mA_arr\u001B[49m\u001B[43m,\u001B[49m\u001B[43m \u001B[49m\u001B[43mcosts\u001B[49m\u001B[43m)\u001B[49m\n\u001B[0;32m      2\u001B[0m plt\u001B[38;5;241m.\u001B[39mshow()\n",
      "File \u001B[1;32m~\\anaconda3\\envs\\qcrl-server\\lib\\site-packages\\matplotlib\\pyplot.py:3019\u001B[0m, in \u001B[0;36mplot\u001B[1;34m(scalex, scaley, data, *args, **kwargs)\u001B[0m\n\u001B[0;32m   3017\u001B[0m \u001B[38;5;129m@_copy_docstring_and_deprecators\u001B[39m(Axes\u001B[38;5;241m.\u001B[39mplot)\n\u001B[0;32m   3018\u001B[0m \u001B[38;5;28;01mdef\u001B[39;00m \u001B[38;5;21mplot\u001B[39m(\u001B[38;5;241m*\u001B[39margs, scalex\u001B[38;5;241m=\u001B[39m\u001B[38;5;28;01mTrue\u001B[39;00m, scaley\u001B[38;5;241m=\u001B[39m\u001B[38;5;28;01mTrue\u001B[39;00m, data\u001B[38;5;241m=\u001B[39m\u001B[38;5;28;01mNone\u001B[39;00m, \u001B[38;5;241m*\u001B[39m\u001B[38;5;241m*\u001B[39mkwargs):\n\u001B[1;32m-> 3019\u001B[0m     \u001B[38;5;28;01mreturn\u001B[39;00m \u001B[43mgca\u001B[49m\u001B[43m(\u001B[49m\u001B[43m)\u001B[49m\u001B[38;5;241;43m.\u001B[39;49m\u001B[43mplot\u001B[49m\u001B[43m(\u001B[49m\n\u001B[0;32m   3020\u001B[0m \u001B[43m        \u001B[49m\u001B[38;5;241;43m*\u001B[39;49m\u001B[43margs\u001B[49m\u001B[43m,\u001B[49m\u001B[43m \u001B[49m\u001B[43mscalex\u001B[49m\u001B[38;5;241;43m=\u001B[39;49m\u001B[43mscalex\u001B[49m\u001B[43m,\u001B[49m\u001B[43m \u001B[49m\u001B[43mscaley\u001B[49m\u001B[38;5;241;43m=\u001B[39;49m\u001B[43mscaley\u001B[49m\u001B[43m,\u001B[49m\n\u001B[0;32m   3021\u001B[0m \u001B[43m        \u001B[49m\u001B[38;5;241;43m*\u001B[39;49m\u001B[38;5;241;43m*\u001B[39;49m\u001B[43m(\u001B[49m\u001B[43m{\u001B[49m\u001B[38;5;124;43m\"\u001B[39;49m\u001B[38;5;124;43mdata\u001B[39;49m\u001B[38;5;124;43m\"\u001B[39;49m\u001B[43m:\u001B[49m\u001B[43m \u001B[49m\u001B[43mdata\u001B[49m\u001B[43m}\u001B[49m\u001B[43m \u001B[49m\u001B[38;5;28;43;01mif\u001B[39;49;00m\u001B[43m \u001B[49m\u001B[43mdata\u001B[49m\u001B[43m \u001B[49m\u001B[38;5;129;43;01mis\u001B[39;49;00m\u001B[43m \u001B[49m\u001B[38;5;129;43;01mnot\u001B[39;49;00m\u001B[43m \u001B[49m\u001B[38;5;28;43;01mNone\u001B[39;49;00m\u001B[43m \u001B[49m\u001B[38;5;28;43;01melse\u001B[39;49;00m\u001B[43m \u001B[49m\u001B[43m{\u001B[49m\u001B[43m}\u001B[49m\u001B[43m)\u001B[49m\u001B[43m,\u001B[49m\u001B[43m \u001B[49m\u001B[38;5;241;43m*\u001B[39;49m\u001B[38;5;241;43m*\u001B[39;49m\u001B[43mkwargs\u001B[49m\u001B[43m)\u001B[49m\n",
      "File \u001B[1;32m~\\anaconda3\\envs\\qcrl-server\\lib\\site-packages\\matplotlib\\axes\\_axes.py:1605\u001B[0m, in \u001B[0;36mAxes.plot\u001B[1;34m(self, scalex, scaley, data, *args, **kwargs)\u001B[0m\n\u001B[0;32m   1363\u001B[0m \u001B[38;5;124;03m\"\"\"\u001B[39;00m\n\u001B[0;32m   1364\u001B[0m \u001B[38;5;124;03mPlot y versus x as lines and/or markers.\u001B[39;00m\n\u001B[0;32m   1365\u001B[0m \n\u001B[1;32m   (...)\u001B[0m\n\u001B[0;32m   1602\u001B[0m \u001B[38;5;124;03m(``'green'``) or hex strings (``'#008000'``).\u001B[39;00m\n\u001B[0;32m   1603\u001B[0m \u001B[38;5;124;03m\"\"\"\u001B[39;00m\n\u001B[0;32m   1604\u001B[0m kwargs \u001B[38;5;241m=\u001B[39m cbook\u001B[38;5;241m.\u001B[39mnormalize_kwargs(kwargs, mlines\u001B[38;5;241m.\u001B[39mLine2D)\n\u001B[1;32m-> 1605\u001B[0m lines \u001B[38;5;241m=\u001B[39m [\u001B[38;5;241m*\u001B[39m\u001B[38;5;28mself\u001B[39m\u001B[38;5;241m.\u001B[39m_get_lines(\u001B[38;5;241m*\u001B[39margs, data\u001B[38;5;241m=\u001B[39mdata, \u001B[38;5;241m*\u001B[39m\u001B[38;5;241m*\u001B[39mkwargs)]\n\u001B[0;32m   1606\u001B[0m \u001B[38;5;28;01mfor\u001B[39;00m line \u001B[38;5;129;01min\u001B[39;00m lines:\n\u001B[0;32m   1607\u001B[0m     \u001B[38;5;28mself\u001B[39m\u001B[38;5;241m.\u001B[39madd_line(line)\n",
      "File \u001B[1;32m~\\anaconda3\\envs\\qcrl-server\\lib\\site-packages\\matplotlib\\axes\\_base.py:315\u001B[0m, in \u001B[0;36m_process_plot_var_args.__call__\u001B[1;34m(self, data, *args, **kwargs)\u001B[0m\n\u001B[0;32m    313\u001B[0m     this \u001B[38;5;241m+\u001B[39m\u001B[38;5;241m=\u001B[39m args[\u001B[38;5;241m0\u001B[39m],\n\u001B[0;32m    314\u001B[0m     args \u001B[38;5;241m=\u001B[39m args[\u001B[38;5;241m1\u001B[39m:]\n\u001B[1;32m--> 315\u001B[0m \u001B[38;5;28;01myield from\u001B[39;00m \u001B[38;5;28;43mself\u001B[39;49m\u001B[38;5;241;43m.\u001B[39;49m\u001B[43m_plot_args\u001B[49m\u001B[43m(\u001B[49m\u001B[43mthis\u001B[49m\u001B[43m,\u001B[49m\u001B[43m \u001B[49m\u001B[43mkwargs\u001B[49m\u001B[43m)\u001B[49m\n",
      "File \u001B[1;32m~\\anaconda3\\envs\\qcrl-server\\lib\\site-packages\\matplotlib\\axes\\_base.py:501\u001B[0m, in \u001B[0;36m_process_plot_var_args._plot_args\u001B[1;34m(self, tup, kwargs, return_kwargs)\u001B[0m\n\u001B[0;32m    498\u001B[0m     \u001B[38;5;28mself\u001B[39m\u001B[38;5;241m.\u001B[39maxes\u001B[38;5;241m.\u001B[39myaxis\u001B[38;5;241m.\u001B[39mupdate_units(y)\n\u001B[0;32m    500\u001B[0m \u001B[38;5;28;01mif\u001B[39;00m x\u001B[38;5;241m.\u001B[39mshape[\u001B[38;5;241m0\u001B[39m] \u001B[38;5;241m!=\u001B[39m y\u001B[38;5;241m.\u001B[39mshape[\u001B[38;5;241m0\u001B[39m]:\n\u001B[1;32m--> 501\u001B[0m     \u001B[38;5;28;01mraise\u001B[39;00m \u001B[38;5;167;01mValueError\u001B[39;00m(\u001B[38;5;124mf\u001B[39m\u001B[38;5;124m\"\u001B[39m\u001B[38;5;124mx and y must have same first dimension, but \u001B[39m\u001B[38;5;124m\"\u001B[39m\n\u001B[0;32m    502\u001B[0m                      \u001B[38;5;124mf\u001B[39m\u001B[38;5;124m\"\u001B[39m\u001B[38;5;124mhave shapes \u001B[39m\u001B[38;5;132;01m{\u001B[39;00mx\u001B[38;5;241m.\u001B[39mshape\u001B[38;5;132;01m}\u001B[39;00m\u001B[38;5;124m and \u001B[39m\u001B[38;5;132;01m{\u001B[39;00my\u001B[38;5;241m.\u001B[39mshape\u001B[38;5;132;01m}\u001B[39;00m\u001B[38;5;124m\"\u001B[39m)\n\u001B[0;32m    503\u001B[0m \u001B[38;5;28;01mif\u001B[39;00m x\u001B[38;5;241m.\u001B[39mndim \u001B[38;5;241m>\u001B[39m \u001B[38;5;241m2\u001B[39m \u001B[38;5;129;01mor\u001B[39;00m y\u001B[38;5;241m.\u001B[39mndim \u001B[38;5;241m>\u001B[39m \u001B[38;5;241m2\u001B[39m:\n\u001B[0;32m    504\u001B[0m     \u001B[38;5;28;01mraise\u001B[39;00m \u001B[38;5;167;01mValueError\u001B[39;00m(\u001B[38;5;124mf\u001B[39m\u001B[38;5;124m\"\u001B[39m\u001B[38;5;124mx and y can be no greater than 2D, but have \u001B[39m\u001B[38;5;124m\"\u001B[39m\n\u001B[0;32m    505\u001B[0m                      \u001B[38;5;124mf\u001B[39m\u001B[38;5;124m\"\u001B[39m\u001B[38;5;124mshapes \u001B[39m\u001B[38;5;132;01m{\u001B[39;00mx\u001B[38;5;241m.\u001B[39mshape\u001B[38;5;132;01m}\u001B[39;00m\u001B[38;5;124m and \u001B[39m\u001B[38;5;132;01m{\u001B[39;00my\u001B[38;5;241m.\u001B[39mshape\u001B[38;5;132;01m}\u001B[39;00m\u001B[38;5;124m\"\u001B[39m)\n",
      "\u001B[1;31mValueError\u001B[0m: x and y must have same first dimension, but have shapes (101,) and (1,)"
     ]
    },
    {
     "data": {
      "text/plain": [
       "<Figure size 640x480 with 1 Axes>"
      ],
      "image/png": "[encoded data removed]"
     },
     "metadata": {},
     "output_type": "display_data"
    }
   ],
   "execution_count": 8
  },
  {
   "metadata": {
    "ExecuteTime": {
     "end_time": "2024-11-20T13:54:42.298706Z",
     "start_time": "2024-11-20T13:54:42.067708Z"
    }
   },
   "cell_type": "code",
   "source": [
    "plt.plot(amp_times, gauss_gen(1000000, (time_start + time_stop) / 8, A1_pi_sigma, 1)(amp_times))\n",
    "plt.show()"
   ],
   "id": "429df4b75f575412",
   "outputs": [
    {
     "data": {
      "text/plain": [
       "<Figure size 640x480 with 1 Axes>"
      ],
      "image/png": "[encoded data removed]"
     },
     "metadata": {},
     "output_type": "display_data"
    }
   ],
   "execution_count": 17
  },
  {
   "metadata": {},
   "cell_type": "code",
   "outputs": [],
   "execution_count": null,
   "source": "",
   "id": "38cf099f69266c92"
  }
 ],
 "metadata": {
  "kernelspec": {
   "display_name": "Python 3",
   "language": "python",
   "name": "python3"
  },
  "language_info": {
   "codemirror_mode": {
    "name": "ipython",
    "version": 2
   },
   "file_extension": ".py",
   "mimetype": "text/x-python",
   "name": "python",
   "nbconvert_exporter": "python",
   "pygments_lexer": "ipython2",
   "version": "2.7.6"
  }
 },
 "nbformat": 4,
 "nbformat_minor": 5
}
