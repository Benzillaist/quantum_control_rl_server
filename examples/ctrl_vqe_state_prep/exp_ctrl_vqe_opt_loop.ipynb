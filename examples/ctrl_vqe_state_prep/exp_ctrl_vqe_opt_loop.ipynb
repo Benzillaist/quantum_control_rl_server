{
 "cells": [
  {
   "cell_type": "code",
   "id": "initial_id",
   "metadata": {
    "collapsed": true,
    "ExecuteTime": {
     "end_time": "2024-07-31T16:17:33.896649Z",
     "start_time": "2024-07-31T16:17:32.150745Z"
    }
   },
   "source": [
    "import numpy as np\n",
    "import subprocess\n",
    "import time\n",
    "import copy\n",
    "from utils.opt_utils import *\n",
    "import os\n",
    "import h5py\n",
    "import pickle\n",
    "from qutip import *\n",
    "import utils.pulse_configs as pc"
   ],
   "outputs": [],
   "execution_count": 1
  },
  {
   "metadata": {
    "ExecuteTime": {
     "end_time": "2024-07-31T16:17:33.906649Z",
     "start_time": "2024-07-31T16:17:33.896649Z"
    }
   },
   "cell_type": "code",
   "source": "config_dict = pc.config_dict",
   "id": "b17582b7c2df0045",
   "outputs": [],
   "execution_count": 2
  },
  {
   "metadata": {
    "ExecuteTime": {
     "end_time": "2024-07-31T16:17:33.916646Z",
     "start_time": "2024-07-31T16:17:33.906649Z"
    }
   },
   "cell_type": "code",
   "source": [
    "# Defining relevant values\n",
    "wq = config_dict[\"qubit\"][\"selective_freqs\"][\"g\"][\"ge\"]\n",
    "wa_B = config_dict[\"storage_B\"][\"freq\"]"
   ],
   "id": "7caad1bcb5bb0d69",
   "outputs": [],
   "execution_count": 3
  },
  {
   "metadata": {
    "ExecuteTime": {
     "end_time": "2024-07-31T17:51:59.989188Z",
     "start_time": "2024-07-31T17:51:59.969201Z"
    }
   },
   "cell_type": "code",
   "source": [
    "# ========== OPTIONS ========== #\n",
    "max_segs = 20\n",
    "time_start = 0.0000000\n",
    "time_stop = 0.000001\n",
    "init_amp = 1500\n",
    "n_steps = 501\n",
    "\n",
    "num_drives = 2\n",
    "chs = [2, 4]\n",
    "init_freqs = [wq, wa_B]\n",
    "verbose = True\n",
    "plot_opt_pulses = False\n",
    "plot_pulse_viewer = False\n",
    "\n",
    "save_dir = 'save_data'\n",
    "hdf5_name = os.path.join(save_dir, time.strftime('%Y%m%d-%H%M%S.h5'))\n",
    "epochs = 100\n",
    "train_batch_size = 20\n",
    "qubit_amp_scale = 4\n",
    "cavity_amp_scale = 4\n",
    "freq_scale = 0.001\n",
    "# ========== OPTIONS ========== #\n",
    "\n",
    "drive_freqs = np.array(init_freqs)\n",
    "\n",
    "qscale = []\n",
    "cscale = []\n",
    "for i in range(2):\n",
    "    qscale.append(init_amp * qubit_amp_scale)\n",
    "    cscale.append(init_amp * cavity_amp_scale)\n",
    "    # cscale.append(init_amp * cavity_amp_scale)\n",
    "\n",
    "t_segs, amp_segs = setup_segs(2 * num_drives, time_start, time_stop, init_amp)\n",
    "\n",
    "# Create blank history arrays for storing optimal / past values\n",
    "time_hist = []\n",
    "amp_hist = []\n",
    "freq_hist = []\n",
    "cost_hist = []"
   ],
   "id": "ee13c6064083c6d1",
   "outputs": [],
   "execution_count": 6
  },
  {
   "metadata": {
    "jupyter": {
     "is_executing": true
    },
    "ExecuteTime": {
     "start_time": "2024-07-31T17:52:00.309193Z"
    }
   },
   "cell_type": "code",
   "source": [
    "# Run vqe, etc\n",
    "hdf5_start_index = 0\n",
    "start_segs = 1\n",
    "for i in range(max_segs):\n",
    "    \n",
    "    temp_amp_scale = copy.deepcopy(amp_segs)\n",
    "    if np.shape(temp_amp_scale)[0] < 2:\n",
    "        temp_amp_scale[:, :] = np.vectorize(max)(np.abs(amp_segs * qubit_amp_scale), init_amp * np.ones(np.shape(amp_segs)) / qubit_amp_scale)\n",
    "    else:\n",
    "        temp_amp_scale[:2, :] = np.vectorize(max)(np.abs(amp_segs[:2] * qubit_amp_scale), init_amp * np.ones(np.shape(amp_segs[:2])) / qubit_amp_scale)\n",
    "        temp_amp_scale[2:, :] = np.vectorize(max)(np.abs(amp_segs[2:] * cavity_amp_scale), init_amp * np.ones(np.shape(amp_segs[2:])) / cavity_amp_scale)\n",
    "    temp_freq_scale = list(freq_scale * np.array(drive_freqs))\n",
    "\n",
    "    client_args = [t_segs, chs, verbose, plot_opt_pulses, plot_pulse_viewer]\n",
    "    server_args = [epochs, train_batch_size, amp_segs, drive_freqs, temp_amp_scale, temp_freq_scale, hdf5_name]\n",
    "\n",
    "    \n",
    "    # Save args for rl client\n",
    "    cf_name = \"temp_files/client_args.txt\"\n",
    "    with open(cf_name, \"wb\") as fp:\n",
    "        pickle.dump(client_args, fp)\n",
    "    fp.close()\n",
    "    \n",
    "    # Save args for rl server\n",
    "    sf_name = \"temp_files/server_args.txt\"\n",
    "    with open(sf_name, \"wb\") as fp:\n",
    "        pickle.dump(server_args, fp)\n",
    "    fp.close()\n",
    "    \n",
    "\n",
    "    os.system('cmd /c python ./exp_ctrl_vqe_run_rl_scripts.py')\n",
    "    \n",
    "    # Give time for files to be updated etc\n",
    "    time.sleep(1)\n",
    "    \n",
    "    opt_amps = []\n",
    "    opt_freqs = []\n",
    "    with h5py.File(hdf5_name, \"r\") as f:\n",
    "        opt_res_index = np.argmax(f[str(i + hdf5_start_index)][\"evaluation\"][\"rewards\"][()])\n",
    "        opt_result = f[str(i + hdf5_start_index)][\"evaluation\"][\"rewards\"][()][opt_res_index]\n",
    "        for j in range(2 * num_drives):\n",
    "            opt_amps.append([f[str(i + hdf5_start_index)][\"evaluation\"][\"actions\"][f'pulse_array_{j}'][()][opt_res_index]])\n",
    "        for j in range(num_drives):\n",
    "            opt_freqs.append(f[str(i + hdf5_start_index)][\"evaluation\"][\"actions\"][f'freq_{j}'][()][opt_res_index])\n",
    "    \n",
    "    # updates amplitudes and frequencies with optimized values and reshape\n",
    "    amp_segs = np.array(opt_amps)\n",
    "    amp_segs = np.reshape(amp_segs, (num_drives * 2, int(len(amp_segs.flatten()) / (num_drives * 2))))\n",
    "    \n",
    "    print(f'================')\n",
    "    print(f'num segs: {i + start_segs} ')\n",
    "    print(f'opt_amps: {amp_segs}')\n",
    "    print(f'opt_freqs: {opt_freqs}')\n",
    "    print(f'opt_result: {opt_result}')\n",
    "\n",
    "    # save values to history arrays\n",
    "    time_hist.append(t_segs)\n",
    "    amp_hist.append(amp_segs)\n",
    "    freq_hist.append(drive_freqs)\n",
    "    cost_hist.append(opt_result)\n",
    "\n",
    "    for i in range(2):\n",
    "        qscale.append(init_amp * qubit_amp_scale)\n",
    "        cscale.append(init_amp * cavity_amp_scale)\n",
    "        # cscale.append(init_amp * cavity_amp_scale)\n",
    "\n",
    "    # split segments and return to start of loop\n",
    "    if (i < max_segs - 1):\n",
    "        t_segs, amp_segs = split_segs(t_segs, amp_segs)"
   ],
   "id": "71902ea000d62b75",
   "outputs": [],
   "execution_count": null
  },
  {
   "metadata": {},
   "cell_type": "code",
   "source": "",
   "id": "e83fa5326d404673",
   "outputs": [],
   "execution_count": null
  }
 ],
 "metadata": {
  "kernelspec": {
   "display_name": "Python 3",
   "language": "python",
   "name": "python3"
  },
  "language_info": {
   "codemirror_mode": {
    "name": "ipython",
    "version": 2
   },
   "file_extension": ".py",
   "mimetype": "text/x-python",
   "name": "python",
   "nbconvert_exporter": "python",
   "pygments_lexer": "ipython2",
   "version": "2.7.6"
  }
 },
 "nbformat": 4,
 "nbformat_minor": 5
}
