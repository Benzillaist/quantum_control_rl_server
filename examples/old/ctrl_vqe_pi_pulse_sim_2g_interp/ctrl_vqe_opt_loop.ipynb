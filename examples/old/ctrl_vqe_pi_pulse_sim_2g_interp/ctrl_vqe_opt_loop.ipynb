{
 "cells": [
  {
   "cell_type": "code",
   "id": "initial_id",
   "metadata": {
    "collapsed": true,
    "ExecuteTime": {
     "end_time": "2024-11-26T01:29:51.479242Z",
     "start_time": "2024-11-26T01:29:49.418241Z"
    }
   },
   "source": [
    "import numpy as np\n",
    "import subprocess\n",
    "import time\n",
    "import copy\n",
    "from utils.opt_utils import *\n",
    "import os\n",
    "import h5py\n",
    "import pickle\n",
    "from qutip import *"
   ],
   "outputs": [],
   "execution_count": 1
  },
  {
   "metadata": {
    "ExecuteTime": {
     "end_time": "2024-11-26T01:29:52.305241Z",
     "start_time": "2024-11-26T01:29:52.281242Z"
    }
   },
   "cell_type": "code",
   "source": [
    "wc_A = 4.069814 * (10**9) * 2 * np.pi  # cavity A frequency\n",
    "wc_B = 6.096062 * (10**9) * 2 * np.pi  # cavity A frequency\n",
    "wa =  5.325 * (10**9) * 2 * np.pi  # atom frequency\n",
    "dt_A = np.abs(wc_A - wa) / (2 * np.pi)\n",
    "dt_B = np.abs(wc_B - wa) / (2 * np.pi)\n",
    "chi_A = 0.00215 * (10**9) * 2 * np.pi\n",
    "chi_B = 0.00544 * (10**9) * 2 * np.pi\n",
    "g_A = np.sqrt(chi_A * dt_A) * 2 * np.pi  # coupling strength w/ cavity A\n",
    "g_B = np.sqrt(chi_B * dt_B) * 2 * np.pi  # coupling strength w/ cavity B\n",
    "\n",
    "gamma = 333333.333        # atom dissipation rate\n",
    "kappa_A = 10000       # cavity A dissipation rate\n",
    "kappa_B = 10000       # cavity B dissipation rate\n",
    "\n",
    "temp_q = 0.01        # avg number of thermal bath excitation for qubit\n",
    "temp_A = 0.04        # avg number of thermal bath excitation for cavity A\n",
    "temp_B = 0.05        # avg number of thermal bath excitation for cavity B"
   ],
   "id": "1f2ee208be8924fb",
   "outputs": [],
   "execution_count": 2
  },
  {
   "metadata": {
    "ExecuteTime": {
     "end_time": "2024-11-26T01:29:53.425239Z",
     "start_time": "2024-11-26T01:29:53.401240Z"
    }
   },
   "cell_type": "code",
   "source": [
    "cavity_dims = 8\n",
    "\n",
    "# Cost function\n",
    "def cost_q_e(final_expect, final_dm):\n",
    "    # print(final_expect[0])\n",
    "    return(final_expect[0])\n",
    "\n",
    "def cost_qA_g1(final_expect, final_state):\n",
    "    # print(final_dm.full())\n",
    "    return np.power(np.abs(final_state.full()[1][0]), 2)\n",
    "\n",
    "def cost_qA_g2(final_expect, final_state):\n",
    "    # print(final_dm.full())\n",
    "    return np.power(np.abs(final_state.full()[2][0]), 2)\n",
    "\n",
    "def cost_qA_g3(final_expect, final_state):\n",
    "    # print(final_dm.full())\n",
    "    return np.power(np.abs(final_state.full()[3][0]), 2)\n",
    "\n",
    "def cost_qA_g4(final_expect, final_state):\n",
    "    # print(final_dm.full())\n",
    "    return np.power(np.abs(final_state.full()[4][0]), 2)\n",
    "\n",
    "def cost_qAB_g11(final_expect, final_dm):\n",
    "    return np.power(np.abs(final_dm.full()[cavity_dims + 1][0]), 2)\n",
    "\n",
    "def cost_qAB_g11_dm(final_expect, final_state):\n",
    "    return np.power(np.abs(final_state[cavity_dims + 1][0]), 2)\n",
    "\n",
    "def cost_qAB_g11_n(final_expect, final_dm):\n",
    "    noise = (np.random.rand(1)[0] * 0.10) - 0.05\n",
    "    return np.abs(final_dm.full()[cavity_dims + 1][0]) + noise"
   ],
   "id": "41f57b7bf2d1c57b",
   "outputs": [],
   "execution_count": 3
  },
  {
   "metadata": {
    "ExecuteTime": {
     "end_time": "2024-11-26T01:29:55.575241Z",
     "start_time": "2024-11-26T01:29:55.521241Z"
    }
   },
   "cell_type": "code",
   "source": [
    "# ========== OPTIONS ========== #\n",
    "max_segs = 20\n",
    "time_start = 0.0000000\n",
    "time_stop = 0.00000225\n",
    "init_amp = 4000000\n",
    "n_steps = 501\n",
    "\n",
    "num_drives = 2\n",
    "num_cavities = 1\n",
    "# cavity_dims = 8\n",
    "state_sizes = [2, cavity_dims]\n",
    "state_vals = [0, 0]\n",
    "init_freqs = [wa - wc_A, wc_A]\n",
    "sim_options = Options()\n",
    "element_freqs = [wa, wc_A]\n",
    "drive_elem_nums = [0, 1]\n",
    "output_cost_func = cost_qA_g2\n",
    "elements = \"qA\"\n",
    "start_split_num = 10\n",
    "n_seg_jump = 1\n",
    "verbose = True\n",
    "\n",
    "load_pulse_dir = r'C:\\Users\\Wang_Lab\\Documents\\GitLab\\quantum_control_rl_server\\examples\\ctrl_vqe_pi_pulse_sim_2g_interp'\n",
    "load_times_file = r'opt_SNAP_times_1g.txt'\n",
    "load_amps_file = r'opt_SNAP_amps_1g.txt'\n",
    "use_loaded_data = False\n",
    "\n",
    "save_dir = r'C:\\Users\\Wang_Lab\\Documents\\GitLab\\quantum_control_rl_server\\examples\\ctrl_vqe_pi_pulse_sim_2g_interp\\save_data'\n",
    "hdf5_name = time.strftime('g11-n0-%Y%m%d-%H%M%S.h5')\n",
    "epochs = 1000\n",
    "epochs_per_seg = 500\n",
    "train_batch_size = 20\n",
    "qubit_amp_scale = 10\n",
    "cavity_amp_scale = 10\n",
    "freq_scale = 0.0005\n",
    "# ========== OPTIONS ========== #\n",
    "\n",
    "t_arr = np.linspace(time_start, time_stop, n_steps)\n",
    "\n",
    "t_step = (time_stop - time_start) / n_steps\n",
    "\n",
    "sim_options.store_final_state = True\n",
    "\n",
    "qscale = []\n",
    "cscale = []\n",
    "for i in range(2 * start_split_num):\n",
    "    qscale.append(init_amp * qubit_amp_scale)\n",
    "    cscale.append(init_amp * cavity_amp_scale)\n",
    "    cscale.append(init_amp * cavity_amp_scale)\n",
    "\n",
    "sm, a_A, a_B, sx, sz = reg_ops(num_cavities + 1, cavity_dims)\n",
    "drive_freqs = np.array(init_freqs)\n",
    "\n",
    "gammas = [gamma, kappa_A]\n",
    "temps = [temp_q, temp_A]\n",
    "c_ops = [] # gen_c_ops(elements, [sm, a_A, a_B, sx, sz], gammas, temps)\n",
    "\n",
    "# Operators used in Hamiltonian\n",
    "drive_ops = [sm.dag(), sm, a_A.dag(), a_A]\n",
    "element_ops = [sz, a_A.dag() * a_A]\n",
    "H_0 = (chi_A * a_A.dag() * a_A * sz)\n",
    "eval_ops = [sm.dag() * sm, a_A.dag() * a_A] # [sm.dag() * sm, a_A.dag() * a_A, a_B.dag() * a_B] # [sm.dag() * sm, a_A.dag() * a_A, a_B.dag() * a_B, tensor(destroy(2) * destroy(2).dag(), destroy(cavity_dims).dag() * destroy(cavity_dims), destroy(cavity_dims).dag() * destroy(cavity_dims))]\n",
    "\n",
    "t_segs, amp_segs = setup_interp_segs(2 * num_drives, time_start, time_stop, init_amp)\n",
    "\n",
    "t_segs = t_segs[:, 1:-1]\n",
    "\n",
    "# for i in range(start_split_num - 1):\n",
    "#     t_segs, amp_segs = split_segs(t_segs, amp_segs)\n",
    "\n",
    "# Setup initial state\n",
    "# init_state = build_psi(state_sizes, state_vals)\n",
    "init_state = tensor((basis(state_sizes[0], 0) * np.sqrt(1 - state_vals[0])) + (basis(state_sizes[0], 1) * np.sqrt(state_vals[0])), (basis(state_sizes[1], 0) * np.sqrt(1 - state_vals[1])) + (basis(state_sizes[1], 1) * np.sqrt(state_vals[1])))\n",
    "\n",
    "amp_segs = np.reshape(amp_segs, (num_drives * 2, int(len(amp_segs.flatten()) / (num_drives * 2))))\n",
    "\n",
    "t_segs = np.reshape(t_segs, (num_drives * 2, int(len(t_segs.flatten()) / (num_drives * 2))))\n",
    "\n",
    "for i in range(start_split_num - 1):\n",
    "    t_segs, amp_segs = split_segs_flat(interp_time_wrapper(t_segs, time_start, time_stop), interp_amp_wrapper(amp_segs))\n",
    "    t_segs = t_segs[:, 1:-1]\n",
    "    \n",
    "t_segs = interp_time_wrapper(t_segs, time_start, time_stop)\n",
    "\n",
    "flip_bits = np.array([[False, False, True, True]])\n",
    "flip_mask = np.array([np.repeat(flip_bits, np.ceil(start_split_num / 4), axis=0).flatten()[:start_split_num]])\n",
    "flip_mask = np.repeat([flip_mask], num_drives * 2, axis=1)[0]\n",
    "\n",
    "amp_segs[flip_mask] *= -1\n",
    "\n",
    "if use_loaded_data:\n",
    "    print(\"Loading data\")\n",
    "    load_pulse_times = np.loadtxt(str(os.path.join(load_pulse_dir, load_times_file)))\n",
    "    load_pulse_amps = np.loadtxt(str(os.path.join(load_pulse_dir, load_amps_file)))\n",
    "    \n",
    "    t_segs = np.array(load_pulse_times)\n",
    "    amp_segs = np.array(load_pulse_amps)\n",
    "\n",
    "print(f't_segs: {t_segs}')\n",
    "\n",
    "print(f'amp_segs: {amp_segs}')\n",
    "\n",
    "# Create blank history arrays for storing optimal / past values\n",
    "time_hist = []\n",
    "amp_hist = []\n",
    "freq_hist = []\n",
    "cost_hist = []"
   ],
   "id": "ee13c6064083c6d1",
   "outputs": [
    {
     "name": "stdout",
     "output_type": "stream",
     "text": [
      "[1.19496251e-06]\n",
      "[9.09759266e-07]\n",
      "[4.5299726e-07]\n",
      "[1.23871482e-06]\n",
      "t_segs: [[0.00000000e+00 8.84227132e-08 2.42967683e-07 4.85512655e-07\n",
      "  6.47914305e-07 8.42495554e-07 1.03073859e-06 1.19496251e-06\n",
      "  1.40913433e-06 1.72449776e-06 1.94214784e-06 2.25000000e-06]\n",
      " [0.00000000e+00 3.89490355e-07 4.40500733e-07 6.15153851e-07\n",
      "  8.64871405e-07 9.09759266e-07 1.26129912e-06 1.60417124e-06\n",
      "  1.63924006e-06 1.80536557e-06 1.92284858e-06 2.25000000e-06]\n",
      " [0.00000000e+00 1.60092959e-07 4.52997260e-07 6.96099587e-07\n",
      "  8.95411656e-07 1.13770688e-06 1.47087204e-06 1.53052059e-06\n",
      "  1.67404585e-06 1.76739573e-06 2.01343655e-06 2.25000000e-06]\n",
      " [0.00000000e+00 2.84208334e-08 2.28426214e-07 5.18127673e-07\n",
      "  7.35708449e-07 7.36023555e-07 1.10775873e-06 1.23871482e-06\n",
      "  1.40570352e-06 1.77206669e-06 2.04682794e-06 2.25000000e-06]]\n",
      "amp_segs: [[ 3.70401500e+06  3.72162312e+06 -3.72431814e+06 -3.72834313e+06\n",
      "   3.79829533e+06  3.89227501e+06 -4.00000000e+06 -3.79752041e+06\n",
      "   3.66001105e+06  2.83282950e+06]\n",
      " [ 1.87354640e+03  1.61790325e+04 -5.69849212e+04 -1.97361491e+05\n",
      "   4.00000000e+06  3.04827914e+06 -2.07249900e+06 -1.12537712e+05\n",
      "   3.06100370e+04  8.08790106e+03]\n",
      " [ 2.58636708e+06  4.00000000e+06 -3.55546147e+06 -3.54769388e+06\n",
      "   3.54130425e+06  3.53888745e+06 -3.52538850e+06 -3.48886954e+06\n",
      "   3.47767377e+06  3.47342600e+06]\n",
      " [ 3.90822400e+06  3.93558080e+06 -3.94020704e+06 -3.94636673e+06\n",
      "   3.96031815e+06  3.96032998e+06 -4.00000000e+06 -3.36244082e+06\n",
      "   3.29127386e+06  3.19638073e+06]]\n"
     ]
    }
   ],
   "execution_count": 4
  },
  {
   "metadata": {
    "ExecuteTime": {
     "end_time": "2024-11-28T05:39:04.186257Z",
     "start_time": "2024-11-26T01:29:57.628239Z"
    }
   },
   "cell_type": "code",
   "source": [
    "# Run vqe, etc\n",
    "vmax = np.vectorize(max)\n",
    "vmin = np.vectorize(min)\n",
    "\n",
    "hdf5_start_index = 0\n",
    "start_segs = start_split_num\n",
    "for i in range(max_segs):\n",
    "    # temp_amp_scale = copy.deepcopy(amp_segs)\n",
    "    \n",
    "    temp_amp_scale = np.append(np.array(qscale), np.array(cscale))\n",
    "    # temp_time_scale = copy.deepcopy(t_segs[:, 1:-1])\n",
    "    \n",
    "    # if np.shape(temp_amp_scale)[0] < 2:\n",
    "    #     temp_amp_scale[:, :] = vmax(np.abs(amp_segs * qubit_amp_scale), init_amp * np.ones(np.shape(amp_segs)) / qubit_amp_scale)\n",
    "    # else:\n",
    "    #     temp_amp_scale[:2, :] = vmax(np.abs(amp_segs[:2] * qubit_amp_scale), init_amp * np.ones(np.shape(amp_segs[:2])) / qubit_amp_scale)\n",
    "    #     temp_amp_scale[2:, :] = vmax(np.abs(amp_segs[2:] * cavity_amp_scale), init_amp * np.ones(np.shape(amp_segs[2:])) / cavity_amp_scale)\n",
    "\n",
    "    temp_time_scale = vmin(t_segs[:, 1:-1] - time_start, time_stop - t_segs[:, 1:-1])\n",
    "\n",
    "    temp_freq_scale = list(freq_scale * np.array(drive_freqs))\n",
    "    \n",
    "    print(f'amp_segs shape: {np.shape(amp_segs)}')\n",
    "    print(f't_segs[:, 1:-1] shape: {np.shape(t_segs[:, 1:-1])}')\n",
    "\n",
    "    client_args = [num_drives, drive_ops, element_freqs, H_0, init_state, t_arr, eval_ops, sim_options, output_cost_func, verbose, drive_freqs, drive_elem_nums]\n",
    "    server_args = [(len(t_segs[0]) - 2) * epochs_per_seg, train_batch_size, amp_segs, t_segs[:, 1:-1], drive_freqs, temp_amp_scale, temp_time_scale, temp_freq_scale, hdf5_name]\n",
    "\n",
    "\n",
    "    # Save args for rl client\n",
    "    cf_name = \"temp_files/client_args.txt\"\n",
    "    with open(cf_name, \"wb\") as fp:\n",
    "        pickle.dump(client_args, fp)\n",
    "    fp.close()\n",
    "\n",
    "    # Save args for rl server\n",
    "    sf_name = \"temp_files/server_args.txt\"\n",
    "    with open(sf_name, \"wb\") as fp:\n",
    "        pickle.dump(server_args, fp)\n",
    "    fp.close()\n",
    "\n",
    "\n",
    "    os.system('cmd /c python ./run_rl_scripts.py')\n",
    "\n",
    "    # Give time for files to be updated etc\n",
    "    time.sleep(1)\n",
    "\n",
    "    time.sleep(10)\n",
    "    opt_amps = []\n",
    "    opt_times = []\n",
    "    opt_freqs = []\n",
    "\n",
    "    with h5py.File(os.path.join(save_dir, hdf5_name), \"r\") as f:\n",
    "        opt_res_index = np.argmax(f[str(i + hdf5_start_index)][\"evaluation\"][\"rewards\"][()])\n",
    "        opt_result = f[str(i + hdf5_start_index)][\"evaluation\"][\"rewards\"][()][opt_res_index]\n",
    "        for j in range(2 * num_drives):\n",
    "            opt_amps.append([f[str(i + hdf5_start_index)][\"evaluation\"][\"actions\"][f'pulse_array_{j}'][()][opt_res_index]])\n",
    "        for j in range(2 * num_drives):\n",
    "            opt_times.append([f[str(i + hdf5_start_index)][\"evaluation\"][\"actions\"][f'time_array_{j}'][()][opt_res_index]])\n",
    "        for j in range(num_drives):\n",
    "            opt_freqs.append(f[str(i + hdf5_start_index)][\"evaluation\"][\"actions\"][f'freq_{j}'][()][opt_res_index])\n",
    "\n",
    "    # updates amplitudes and frequencies with optimized values and reshape\n",
    "    amp_segs = np.array(opt_amps)\n",
    "    amp_segs = np.reshape(amp_segs, (num_drives * 2, int(len(amp_segs.flatten()) / (num_drives * 2))))\n",
    "\n",
    "    t_segs = np.array(opt_times)\n",
    "    t_segs = np.reshape(t_segs, (num_drives * 2, int(len(amp_segs.flatten()) / (num_drives * 2))))\n",
    "\n",
    "    print(f'================')\n",
    "    print(f'num segs: {i + start_segs} ')\n",
    "    print(f'opt_amps: {amp_segs}')\n",
    "    print(f'opt_times: {t_segs}')\n",
    "    print(f'opt_freqs: {opt_freqs}')\n",
    "    print(f'opt_result: {opt_result}')\n",
    "\n",
    "    # save values to history arrays\n",
    "    time_hist.append(interp_time_wrapper(t_segs, time_start, time_stop))\n",
    "    amp_hist.append(interp_amp_wrapper(amp_segs))\n",
    "    freq_hist.append(drive_freqs)\n",
    "    cost_hist.append(opt_result)\n",
    "\n",
    "    np.savez(r'run_data\\\\' + hdf5_name[:-3] + \"-\" + str(i) + \".npz\", time=time_hist[-1], amp=amp_hist[-1], freq=freq_hist[-1], cost=cost_hist[-1])\n",
    "\n",
    "    # # Save time history\n",
    "    # with h5py.File(hdf5_name, 'w'):\n",
    "    #\n",
    "\n",
    "    for i in range(2 * n_seg_jump):\n",
    "        qscale.append(init_amp * qubit_amp_scale)\n",
    "        cscale.append(init_amp * cavity_amp_scale)\n",
    "        cscale.append(init_amp * cavity_amp_scale)\n",
    "\n",
    "    # split segments and return to start of loop\n",
    "    if (i < max_segs - 1):\n",
    "        for i in range(n_seg_jump):\n",
    "            t_segs, amp_segs = split_segs_flat(interp_time_wrapper(t_segs, time_start, time_stop), interp_amp_wrapper(amp_segs))\n",
    "            # amp_segs = amp_segs[:, 1:-1]"
   ],
   "id": "71902ea000d62b75",
   "outputs": [
    {
     "name": "stdout",
     "output_type": "stream",
     "text": [
      "amp_segs shape: (4, 10)\n",
      "t_segs[:, 1:-1] shape: (4, 10)\n"
     ]
    },
    {
     "ename": "KeyboardInterrupt",
     "evalue": "",
     "output_type": "error",
     "traceback": [
      "\u001B[1;31m---------------------------------------------------------------------------\u001B[0m",
      "\u001B[1;31mKeyboardInterrupt\u001B[0m                         Traceback (most recent call last)",
      "Cell \u001B[1;32mIn[5], line 43\u001B[0m\n\u001B[0;32m     39\u001B[0m     pickle\u001B[38;5;241m.\u001B[39mdump(server_args, fp)\n\u001B[0;32m     40\u001B[0m fp\u001B[38;5;241m.\u001B[39mclose()\n\u001B[1;32m---> 43\u001B[0m \u001B[43mos\u001B[49m\u001B[38;5;241;43m.\u001B[39;49m\u001B[43msystem\u001B[49m\u001B[43m(\u001B[49m\u001B[38;5;124;43m'\u001B[39;49m\u001B[38;5;124;43mcmd /c python ./run_rl_scripts.py\u001B[39;49m\u001B[38;5;124;43m'\u001B[39;49m\u001B[43m)\u001B[49m\n\u001B[0;32m     45\u001B[0m \u001B[38;5;66;03m# Give time for files to be updated etc\u001B[39;00m\n\u001B[0;32m     46\u001B[0m time\u001B[38;5;241m.\u001B[39msleep(\u001B[38;5;241m1\u001B[39m)\n",
      "\u001B[1;31mKeyboardInterrupt\u001B[0m: "
     ]
    }
   ],
   "execution_count": 5
  },
  {
   "metadata": {
    "ExecuteTime": {
     "end_time": "2024-11-21T08:46:58.519382Z",
     "start_time": "2024-11-21T08:46:58.518382Z"
    }
   },
   "cell_type": "code",
   "source": [
    "for i in range(n_seg_jump):\n",
    "            t_segs, amp_segs = split_segs(t_segs, amp_segs)"
   ],
   "id": "7d9b4726b7446cd3",
   "outputs": [],
   "execution_count": null
  },
  {
   "metadata": {
    "ExecuteTime": {
     "end_time": "2024-08-06T03:14:40.143424Z",
     "start_time": "2024-08-06T03:14:40.123426Z"
    }
   },
   "cell_type": "code",
   "source": "print(amp_segs)",
   "id": "f743b95adde6d870",
   "outputs": [
    {
     "name": "stdout",
     "output_type": "stream",
     "text": [
      "[[ 1.25358359e+05 -1.54331625e+05 -1.54331625e+05 -2.19530898e+04\n",
      "  -7.78980156e+04  6.14436768e+03  6.14436768e+03  1.83073828e+04\n",
      "   7.58456484e+04  9.74668984e+04  2.30772070e+04 -1.96979277e+04]\n",
      " [-9.31618359e+04 -9.31618359e+04  8.80390820e+03 -2.82802969e+04\n",
      "  -2.82802969e+04  4.20652070e+04 -1.55526914e+04  5.19146484e+04\n",
      "  -5.69786914e+03 -1.00095430e+04 -2.23721133e+04  7.14421797e+04]\n",
      " [-1.18371133e+04  2.66722148e+04 -3.00601000e+05  1.52423078e+05\n",
      "   1.52423078e+05 -5.77008125e+04 -2.03553027e+03  2.40685195e+04\n",
      "   2.00263672e+01 -4.13154414e+04 -4.13154414e+04 -1.21609521e+04]\n",
      " [ 4.46930156e+04 -1.04404326e+04  1.88443379e+04  8.67226562e+02\n",
      "   2.14545594e+05  8.60828125e+02  1.43552141e+05  1.43552141e+05\n",
      "   5.76036797e+04 -5.62975391e+04 -6.36269023e+04 -6.36269023e+04]\n",
      " [ 4.16502000e+05  2.10787109e+02  2.10787109e+02  2.10787109e+02\n",
      "   2.86640879e+04  4.65870273e+04  6.98122656e+03  6.11955250e+06\n",
      "   2.08845038e+06  2.98092800e+06  7.24009250e+05  5.71452562e+05]\n",
      " [ 2.90291650e+06  2.90291650e+06  1.35792675e+06 -4.68639594e+05\n",
      "   3.31854281e+05  3.31854281e+05  2.20148656e+05 -6.06765137e+03\n",
      "  -2.46132598e+04  6.65463037e+03 -2.82192656e+05  9.95015938e+04]]\n"
     ]
    }
   ],
   "execution_count": 9
  },
  {
   "metadata": {
    "ExecuteTime": {
     "end_time": "2024-08-06T03:14:44.273431Z",
     "start_time": "2024-08-06T03:14:44.260431Z"
    }
   },
   "cell_type": "code",
   "source": [
    "print(t_segs)\n",
    "print(amp_segs)"
   ],
   "id": "ec0613d5b20f39f2",
   "outputs": [
    {
     "name": "stdout",
     "output_type": "stream",
     "text": [
      "[[0.00000000e+00 5.64107592e-08 2.12845271e-07 2.82283080e-07\n",
      "  3.38617787e-07 3.66448583e-07 3.93063862e-07 5.70747168e-07\n",
      "  7.00569515e-07 7.19597243e-07 9.09099983e-07 9.80659142e-07\n",
      "  1.00000000e-06]\n",
      " [0.00000000e+00 4.42742279e-08 1.49271735e-07 2.93276271e-07\n",
      "  4.39879104e-07 4.81671158e-07 4.95580247e-07 5.51349150e-07\n",
      "  6.33498263e-07 7.13382632e-07 8.61762414e-07 9.83111753e-07\n",
      "  1.00000000e-06]\n",
      " [0.00000000e+00 6.77431458e-08 1.29914321e-07 1.42089739e-07\n",
      "  2.89161684e-07 3.66217943e-07 3.88832585e-07 5.34926642e-07\n",
      "  6.37952507e-07 6.88327890e-07 7.27924679e-07 8.91384723e-07\n",
      "  1.00000000e-06]\n",
      " [0.00000000e+00 1.30734883e-07 2.33406254e-07 3.76316564e-07\n",
      "  5.08397293e-07 5.85067435e-07 5.96896911e-07 6.60589188e-07\n",
      "  7.44936685e-07 7.56293660e-07 8.40601369e-07 8.73712351e-07\n",
      "  1.00000000e-06]\n",
      " [0.00000000e+00 4.89561177e-08 5.18001887e-08 1.56348121e-07\n",
      "  2.33461744e-07 3.98679095e-07 4.38036989e-07 4.70275566e-07\n",
      "  5.37234329e-07 6.20473146e-07 8.01654669e-07 8.32344501e-07\n",
      "  1.00000000e-06]\n",
      " [0.00000000e+00 1.54140527e-07 1.62935614e-07 2.06531392e-07\n",
      "  2.99377147e-07 4.13616195e-07 4.59562446e-07 4.62579743e-07\n",
      "  5.93945253e-07 6.75347367e-07 8.11006114e-07 9.61346723e-07\n",
      "  1.00000000e-06]]\n",
      "[[ 1.25358359e+05 -1.54331625e+05 -1.54331625e+05 -2.19530898e+04\n",
      "  -7.78980156e+04  6.14436768e+03  6.14436768e+03  1.83073828e+04\n",
      "   7.58456484e+04  9.74668984e+04  2.30772070e+04 -1.96979277e+04]\n",
      " [-9.31618359e+04 -9.31618359e+04  8.80390820e+03 -2.82802969e+04\n",
      "  -2.82802969e+04  4.20652070e+04 -1.55526914e+04  5.19146484e+04\n",
      "  -5.69786914e+03 -1.00095430e+04 -2.23721133e+04  7.14421797e+04]\n",
      " [-1.18371133e+04  2.66722148e+04 -3.00601000e+05  1.52423078e+05\n",
      "   1.52423078e+05 -5.77008125e+04 -2.03553027e+03  2.40685195e+04\n",
      "   2.00263672e+01 -4.13154414e+04 -4.13154414e+04 -1.21609521e+04]\n",
      " [ 4.46930156e+04 -1.04404326e+04  1.88443379e+04  8.67226562e+02\n",
      "   2.14545594e+05  8.60828125e+02  1.43552141e+05  1.43552141e+05\n",
      "   5.76036797e+04 -5.62975391e+04 -6.36269023e+04 -6.36269023e+04]\n",
      " [ 4.16502000e+05  2.10787109e+02  2.10787109e+02  2.10787109e+02\n",
      "   2.86640879e+04  4.65870273e+04  6.98122656e+03  6.11955250e+06\n",
      "   2.08845038e+06  2.98092800e+06  7.24009250e+05  5.71452562e+05]\n",
      " [ 2.90291650e+06  2.90291650e+06  1.35792675e+06 -4.68639594e+05\n",
      "   3.31854281e+05  3.31854281e+05  2.20148656e+05 -6.06765137e+03\n",
      "  -2.46132598e+04  6.65463037e+03 -2.82192656e+05  9.95015938e+04]]\n"
     ]
    }
   ],
   "execution_count": 10
  },
  {
   "metadata": {
    "ExecuteTime": {
     "end_time": "2024-08-07T19:59:17.694740Z",
     "start_time": "2024-08-07T19:59:17.381738Z"
    }
   },
   "cell_type": "code",
   "source": "drive_pulse_plot(t_segs, amp_segs)",
   "id": "e60470ba990fd2ed",
   "outputs": [
    {
     "data": {
      "text/plain": [
       "<Figure size 640x480 with 1 Axes>"
      ],
      "image/png": "[encoded data removed]"
     },
     "metadata": {},
     "output_type": "display_data"
    }
   ],
   "execution_count": 43
  },
  {
   "metadata": {
    "ExecuteTime": {
     "end_time": "2024-07-30T13:10:04.729251Z",
     "start_time": "2024-07-30T13:10:04.117242Z"
    }
   },
   "cell_type": "code",
   "source": [
    "# Evolution of states over time\n",
    "print(amp_segs)\n",
    "x0 = np.append(amp_hist[0].flatten(), opt_freqs[0])\n",
    "print(f'x0: {x0}')\n",
    "# args = [num_drives, num_elems, drive_ops, t_segs, t_step, H_0, init_state, c_ops, eval_ops, sim_options, element_ops, element_freqs, output_cost_func, verbose]\n",
    "# args[]\n",
    "# (num_drives, drive_ops, time_hist[-1], t_step, H_0, init_state, c_ops, eval_ops, sim_options, element_ops, element_freqs, output_cost_func, verbose)\n",
    "ti_state_plot(x0, *args)"
   ],
   "id": "4f6d4b065f3fa60c",
   "outputs": [
    {
     "name": "stdout",
     "output_type": "stream",
     "text": [
      "[[ 1.47097500e+05  4.34678320e+04  2.11682812e+03 -3.74416357e+03\n",
      "  -2.19897485e+03 -2.19897485e+03  9.94827637e+02  2.62260742e+01\n",
      "   5.18196106e+01 -8.00743332e+01 -8.00743332e+01 -2.95967432e+03\n",
      "  -1.45323914e+02 -3.20283032e+03  5.25662231e+01  2.70044023e+04\n",
      "   2.47761855e+04 -2.07656372e+02  5.96390430e+03]\n",
      " [-2.09224156e+05 -1.87897595e+03 -5.08111719e+03  6.19860312e+04\n",
      "  -9.65163452e+02 -9.65163452e+02 -1.01442531e+05 -2.22233275e+06\n",
      "  -2.58982375e+06  2.51408125e+05 -7.87024250e+05 -1.77708100e+06\n",
      "  -8.40678875e+05 -8.40678875e+05 -5.12949492e+04 -1.31681030e+02\n",
      "  -1.09604691e+02 -8.84888281e+03 -5.60991172e+04]\n",
      " [-2.03025203e+05  3.40480273e+03  1.15721125e+05  1.34487638e+06\n",
      "  -2.23423344e+05  2.39326680e+04  3.14440275e+06  1.09494350e+06\n",
      "   7.95814688e+05  7.30395625e+05  1.25069414e+05  5.81266438e+05\n",
      "   2.00908900e+06  6.59775250e+05  6.59775250e+05 -5.56865664e+04\n",
      "   9.00226562e+03  2.36678477e+04  2.36678477e+04]\n",
      " [ 8.88956875e+05  3.92358469e+05 -9.35226875e+04 -1.31870239e+03\n",
      "  -2.15072227e+04 -4.21869922e+03 -3.60857812e+03 -3.59450488e+03\n",
      "   3.42715781e+04  5.00060898e+04  7.69986406e+04  2.72767310e+03\n",
      "   2.72767310e+03 -2.41189344e+05 -2.41189344e+05 -6.73833750e+04\n",
      "   3.22605977e+04  3.94996582e+03  9.23864062e+04]\n",
      " [-1.40179219e+05 -1.40179219e+05 -2.22261350e+06  2.15360844e+05\n",
      "   5.29140117e+04  1.98352797e+05 -1.77478438e+04  2.65966531e+05\n",
      "   1.62789688e+04 -8.09518457e+03 -1.68284424e+03  1.40006885e+03\n",
      "   1.34514355e+03  4.36589188e+05 -3.38968700e+06 -3.38968700e+06\n",
      "  -4.66181200e+06 -1.21836212e+06 -2.23730050e+06]\n",
      " [ 7.32735352e+02  3.19309562e+05  3.66362438e+05  6.53061328e+03\n",
      "   4.61898550e+06  4.30024550e+06  4.30024550e+06  6.41300900e+06\n",
      "  -4.82188125e+05  4.92366016e+04  4.99488867e+04  3.69868031e+05\n",
      "   4.73221562e+04 -1.92227488e+06 -2.37023281e+05 -2.71721680e+04\n",
      "  -1.70895906e+05 -1.70895906e+05  1.36096816e+04]]\n",
      "x0: [ 1.4254578e+04 -3.9284609e+04  5.4642731e+05  2.0177173e+05\n",
      "  9.3792262e+05  3.6320097e+05  3.3452132e+10]\n"
     ]
    },
    {
     "ename": "ValueError",
     "evalue": "cannot reshape array of size 4 into shape (6,0)",
     "output_type": "error",
     "traceback": [
      "\u001B[1;31m---------------------------------------------------------------------------\u001B[0m",
      "\u001B[1;31mValueError\u001B[0m                                Traceback (most recent call last)",
      "Cell \u001B[1;32mIn[11], line 8\u001B[0m\n\u001B[0;32m      5\u001B[0m args \u001B[38;5;241m=\u001B[39m [num_drives, num_elems, drive_ops, t_segs, t_step, H_0, init_state, c_ops, eval_ops, sim_options, element_ops, element_freqs, output_cost_func, verbose]\n\u001B[0;32m      6\u001B[0m \u001B[38;5;66;03m# args[]\u001B[39;00m\n\u001B[0;32m      7\u001B[0m \u001B[38;5;66;03m# (num_drives, drive_ops, time_hist[-1], t_step, H_0, init_state, c_ops, eval_ops, sim_options, element_ops, element_freqs, output_cost_func, verbose)\u001B[39;00m\n\u001B[1;32m----> 8\u001B[0m \u001B[43mti_state_plot\u001B[49m\u001B[43m(\u001B[49m\u001B[43mx0\u001B[49m\u001B[43m,\u001B[49m\u001B[43m \u001B[49m\u001B[38;5;241;43m*\u001B[39;49m\u001B[43margs\u001B[49m\u001B[43m)\u001B[49m\n",
      "File \u001B[1;32m~\\Documents\\GitLab\\quantum_control_rl_server\\utils\\opt_utils.py:453\u001B[0m, in \u001B[0;36mti_state_plot\u001B[1;34m(opts, *args)\u001B[0m\n\u001B[0;32m    451\u001B[0m     drive_freqs \u001B[38;5;241m=\u001B[39m []\n\u001B[0;32m    452\u001B[0m \u001B[38;5;28;01melse\u001B[39;00m:\n\u001B[1;32m--> 453\u001B[0m     amp_mat \u001B[38;5;241m=\u001B[39m \u001B[43mnp\u001B[49m\u001B[38;5;241;43m.\u001B[39;49m\u001B[43mreshape\u001B[49m\u001B[43m(\u001B[49m\u001B[43mopts\u001B[49m\u001B[43m[\u001B[49m\u001B[43m:\u001B[49m\u001B[38;5;241;43m-\u001B[39;49m\u001B[43mnum_elems\u001B[49m\u001B[43m]\u001B[49m\u001B[43m,\u001B[49m\u001B[43m \u001B[49m\u001B[43m(\u001B[49m\u001B[43mnum_drives\u001B[49m\u001B[43m \u001B[49m\u001B[38;5;241;43m*\u001B[39;49m\u001B[43m \u001B[49m\u001B[38;5;241;43m2\u001B[39;49m\u001B[43m,\u001B[49m\u001B[43m \u001B[49m\u001B[38;5;28;43mint\u001B[39;49m\u001B[43m(\u001B[49m\u001B[43m(\u001B[49m\u001B[38;5;28;43mlen\u001B[39;49m\u001B[43m(\u001B[49m\u001B[43mopts\u001B[49m\u001B[43m)\u001B[49m\u001B[43m \u001B[49m\u001B[38;5;241;43m-\u001B[39;49m\u001B[43m \u001B[49m\u001B[43mnum_elems\u001B[49m\u001B[43m)\u001B[49m\u001B[43m \u001B[49m\u001B[38;5;241;43m/\u001B[39;49m\u001B[43m \u001B[49m\u001B[43m(\u001B[49m\u001B[38;5;241;43m2\u001B[39;49m\u001B[43m \u001B[49m\u001B[38;5;241;43m*\u001B[39;49m\u001B[43m \u001B[49m\u001B[43mnum_drives\u001B[49m\u001B[43m)\u001B[49m\u001B[43m)\u001B[49m\u001B[43m)\u001B[49m\u001B[43m)\u001B[49m\n\u001B[0;32m    454\u001B[0m     drive_freqs \u001B[38;5;241m=\u001B[39m opts[\u001B[38;5;241m-\u001B[39mnum_elems:]\n\u001B[0;32m    455\u001B[0m \u001B[38;5;28;01mif\u001B[39;00m verbose:\n",
      "File \u001B[1;32m<__array_function__ internals>:5\u001B[0m, in \u001B[0;36mreshape\u001B[1;34m(*args, **kwargs)\u001B[0m\n",
      "File \u001B[1;32m~\\anaconda3\\envs\\qcrl-server\\lib\\site-packages\\numpy\\core\\fromnumeric.py:299\u001B[0m, in \u001B[0;36mreshape\u001B[1;34m(a, newshape, order)\u001B[0m\n\u001B[0;32m    199\u001B[0m \u001B[38;5;129m@array_function_dispatch\u001B[39m(_reshape_dispatcher)\n\u001B[0;32m    200\u001B[0m \u001B[38;5;28;01mdef\u001B[39;00m \u001B[38;5;21mreshape\u001B[39m(a, newshape, order\u001B[38;5;241m=\u001B[39m\u001B[38;5;124m'\u001B[39m\u001B[38;5;124mC\u001B[39m\u001B[38;5;124m'\u001B[39m):\n\u001B[0;32m    201\u001B[0m     \u001B[38;5;124;03m\"\"\"\u001B[39;00m\n\u001B[0;32m    202\u001B[0m \u001B[38;5;124;03m    Gives a new shape to an array without changing its data.\u001B[39;00m\n\u001B[0;32m    203\u001B[0m \n\u001B[1;32m   (...)\u001B[0m\n\u001B[0;32m    297\u001B[0m \u001B[38;5;124;03m           [5, 6]])\u001B[39;00m\n\u001B[0;32m    298\u001B[0m \u001B[38;5;124;03m    \"\"\"\u001B[39;00m\n\u001B[1;32m--> 299\u001B[0m     \u001B[38;5;28;01mreturn\u001B[39;00m \u001B[43m_wrapfunc\u001B[49m\u001B[43m(\u001B[49m\u001B[43ma\u001B[49m\u001B[43m,\u001B[49m\u001B[43m \u001B[49m\u001B[38;5;124;43m'\u001B[39;49m\u001B[38;5;124;43mreshape\u001B[39;49m\u001B[38;5;124;43m'\u001B[39;49m\u001B[43m,\u001B[49m\u001B[43m \u001B[49m\u001B[43mnewshape\u001B[49m\u001B[43m,\u001B[49m\u001B[43m \u001B[49m\u001B[43morder\u001B[49m\u001B[38;5;241;43m=\u001B[39;49m\u001B[43morder\u001B[49m\u001B[43m)\u001B[49m\n",
      "File \u001B[1;32m~\\anaconda3\\envs\\qcrl-server\\lib\\site-packages\\numpy\\core\\fromnumeric.py:58\u001B[0m, in \u001B[0;36m_wrapfunc\u001B[1;34m(obj, method, *args, **kwds)\u001B[0m\n\u001B[0;32m     55\u001B[0m     \u001B[38;5;28;01mreturn\u001B[39;00m _wrapit(obj, method, \u001B[38;5;241m*\u001B[39margs, \u001B[38;5;241m*\u001B[39m\u001B[38;5;241m*\u001B[39mkwds)\n\u001B[0;32m     57\u001B[0m \u001B[38;5;28;01mtry\u001B[39;00m:\n\u001B[1;32m---> 58\u001B[0m     \u001B[38;5;28;01mreturn\u001B[39;00m \u001B[43mbound\u001B[49m\u001B[43m(\u001B[49m\u001B[38;5;241;43m*\u001B[39;49m\u001B[43margs\u001B[49m\u001B[43m,\u001B[49m\u001B[43m \u001B[49m\u001B[38;5;241;43m*\u001B[39;49m\u001B[38;5;241;43m*\u001B[39;49m\u001B[43mkwds\u001B[49m\u001B[43m)\u001B[49m\n\u001B[0;32m     59\u001B[0m \u001B[38;5;28;01mexcept\u001B[39;00m \u001B[38;5;167;01mTypeError\u001B[39;00m:\n\u001B[0;32m     60\u001B[0m     \u001B[38;5;66;03m# A TypeError occurs if the object does have such a method in its\u001B[39;00m\n\u001B[0;32m     61\u001B[0m     \u001B[38;5;66;03m# class, but its signature is not identical to that of NumPy's. This\u001B[39;00m\n\u001B[1;32m   (...)\u001B[0m\n\u001B[0;32m     65\u001B[0m     \u001B[38;5;66;03m# Call _wrapit from within the except clause to ensure a potential\u001B[39;00m\n\u001B[0;32m     66\u001B[0m     \u001B[38;5;66;03m# exception has a traceback chain.\u001B[39;00m\n\u001B[0;32m     67\u001B[0m     \u001B[38;5;28;01mreturn\u001B[39;00m _wrapit(obj, method, \u001B[38;5;241m*\u001B[39margs, \u001B[38;5;241m*\u001B[39m\u001B[38;5;241m*\u001B[39mkwds)\n",
      "\u001B[1;31mValueError\u001B[0m: cannot reshape array of size 4 into shape (6,0)"
     ]
    }
   ],
   "execution_count": 11
  },
  {
   "metadata": {},
   "cell_type": "code",
   "source": "print(cost_hist)",
   "id": "e83fa5326d404673",
   "outputs": [],
   "execution_count": null
  },
  {
   "metadata": {},
   "cell_type": "code",
   "source": "print(opt_result)",
   "id": "6764d455e6bd3630",
   "outputs": [],
   "execution_count": null
  },
  {
   "metadata": {},
   "cell_type": "code",
   "source": "a = basis(2, 0)",
   "id": "19bfc07ce83f6e1f",
   "outputs": [],
   "execution_count": null
  },
  {
   "metadata": {},
   "cell_type": "code",
   "source": "print(a.full())",
   "id": "1c7980500b9d69f3",
   "outputs": [],
   "execution_count": null
  },
  {
   "metadata": {},
   "cell_type": "code",
   "source": "",
   "id": "a833dbddd4c14e7d",
   "outputs": [],
   "execution_count": null
  }
 ],
 "metadata": {
  "kernelspec": {
   "display_name": "Python 3",
   "language": "python",
   "name": "python3"
  },
  "language_info": {
   "codemirror_mode": {
    "name": "ipython",
    "version": 2
   },
   "file_extension": ".py",
   "mimetype": "text/x-python",
   "name": "python",
   "nbconvert_exporter": "python",
   "pygments_lexer": "ipython2",
   "version": "2.7.6"
  }
 },
 "nbformat": 4,
 "nbformat_minor": 5
}
