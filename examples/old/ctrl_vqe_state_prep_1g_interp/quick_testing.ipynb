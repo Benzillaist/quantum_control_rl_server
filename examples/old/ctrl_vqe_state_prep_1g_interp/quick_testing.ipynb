{
 "cells": [
  {
   "cell_type": "code",
   "id": "initial_id",
   "metadata": {
    "collapsed": true,
    "ExecuteTime": {
     "end_time": "2024-11-28T08:38:32.722952Z",
     "start_time": "2024-11-28T08:38:29.828954Z"
    }
   },
   "source": [
    "import numpy as np\n",
    "import matplotlib.pyplot as plt\n",
    "import os\n",
    "import sys\n",
    "# add quantum-control-rl dir to path for subsequent imports\n",
    "#sys.path.append(os.path.dirname(os.path.dirname(os.getcwd())))\n",
    "import logging\n",
    "import time\n",
    "import pickle\n",
    "from quantum_control_rl_server.remote_env_tools import Client\n",
    "from exp_ctrl_vqe_cost_function import exp_g1_cost_func_xt"
   ],
   "outputs": [],
   "execution_count": 1
  },
  {
   "metadata": {
    "ExecuteTime": {
     "end_time": "2024-11-28T08:38:32.738953Z",
     "start_time": "2024-11-28T08:38:32.724953Z"
    }
   },
   "cell_type": "code",
   "source": [
    "drive_chs = [2, 4]\n",
    "verbose = True\n",
    "plot_opt_pulses = False\n",
    "plot_pulse_viewer = False\n",
    "time_start = 0.0\n",
    "time_stop = 0.000002\n",
    "\n",
    "freqs = [5322.032, 4071.314, 6092.718]\n",
    "\n",
    "client_args = [drive_chs, verbose, plot_opt_pulses, plot_pulse_viewer, time_start, time_stop, freqs]\n",
    "\n",
    "pulse_array = np.array([[200, 550, 200], [200, 550, 200],\n",
    "                        [2000, 2000, 3000], [2000, 5000, 2000]])\n",
    "time_array = np.array([[0.0000005, 0.000001, 0.0000015], \n",
    "                       [0.0000005, 0.000001, 0.0000015], \n",
    "                       [0.0000005, 0.000001, 0.0000015], \n",
    "                       [0.0000005, 0.000001, 0.0000015]])"
   ],
   "id": "2de882ac1c04a5eb",
   "outputs": [],
   "execution_count": 2
  },
  {
   "metadata": {
    "ExecuteTime": {
     "end_time": "2024-11-28T08:42:45.146955Z",
     "start_time": "2024-11-28T08:42:45.129955Z"
    }
   },
   "cell_type": "code",
   "source": "b = []",
   "id": "74bcdb982f21d384",
   "outputs": [],
   "execution_count": 8
  },
  {
   "metadata": {
    "ExecuteTime": {
     "end_time": "2024-11-28T08:45:19.016955Z",
     "start_time": "2024-11-28T08:42:45.281955Z"
    }
   },
   "cell_type": "code",
   "source": [
    "for i in range(10):\n",
    "    b.append(exp_g1_cost_func_xt(np.append(pulse_array.flatten(), time_array.flatten()), *client_args))"
   ],
   "id": "c9b689e54b51b08",
   "outputs": [
    {
     "name": "stdout",
     "output_type": "stream",
     "text": [
      "Trial I time 0: [0.00000000e+00 5.00000000e-07 1.00000000e-06 1.50000000e-06\n",
      " 1.99999999e-06]\n",
      "Trial I amp 0: [  0. 200. 550. 200.   0.]\n",
      "Trial Q time 0: [0.00000000e+00 5.00000000e-07 1.00000000e-06 1.50000000e-06\n",
      " 1.99999999e-06]\n",
      "Trial Q amp 0: [  0. 200. 550. 200.   0.]\n",
      "Trial I time 1: [0.00000000e+00 5.00000000e-07 1.00000000e-06 1.50000000e-06\n",
      " 1.99999999e-06]\n",
      "Trial I amp 1: [   0. 2000. 2000. 3000.    0.]\n",
      "Trial Q time 1: [0.00000000e+00 5.00000000e-07 1.00000000e-06 1.50000000e-06\n",
      " 1.99999999e-06]\n",
      "Trial Q amp 1: [   0. 2000. 5000. 2000.    0.]\n",
      "\n",
      "\n",
      "\n",
      "[2.06553547 1.98325634]\n",
      "[-0.6346385 -0.6054413]\n",
      "Self projection angle: -2.8005988493438707\n",
      "Previous cost: 0.0410349497\n",
      "Trial I time 0: [0.00000000e+00 5.00000000e-07 1.00000000e-06 1.50000000e-06\n",
      " 1.99999999e-06]\n",
      "Trial I amp 0: [  0. 200. 550. 200.   0.]\n",
      "Trial Q time 0: [0.00000000e+00 5.00000000e-07 1.00000000e-06 1.50000000e-06\n",
      " 1.99999999e-06]\n",
      "Trial Q amp 0: [  0. 200. 550. 200.   0.]\n",
      "Trial I time 1: [0.00000000e+00 5.00000000e-07 1.00000000e-06 1.50000000e-06\n",
      " 1.99999999e-06]\n",
      "Trial I amp 1: [   0. 2000. 2000. 3000.    0.]\n",
      "Trial Q time 1: [0.00000000e+00 5.00000000e-07 1.00000000e-06 1.50000000e-06\n",
      " 1.99999999e-06]\n",
      "Trial Q amp 1: [   0. 2000. 5000. 2000.    0.]\n",
      "\n",
      "\n",
      "\n",
      "[2.09714585 1.97453782]\n",
      "[-0.63578047 -0.60670881]\n",
      "Self projection angle: -2.9087815030018436\n",
      "Previous cost: 0.0592251817\n",
      "Trial I time 0: [0.00000000e+00 5.00000000e-07 1.00000000e-06 1.50000000e-06\n",
      " 1.99999999e-06]\n",
      "Trial I amp 0: [  0. 200. 550. 200.   0.]\n",
      "Trial Q time 0: [0.00000000e+00 5.00000000e-07 1.00000000e-06 1.50000000e-06\n",
      " 1.99999999e-06]\n",
      "Trial Q amp 0: [  0. 200. 550. 200.   0.]\n",
      "Trial I time 1: [0.00000000e+00 5.00000000e-07 1.00000000e-06 1.50000000e-06\n",
      " 1.99999999e-06]\n",
      "Trial I amp 1: [   0. 2000. 2000. 3000.    0.]\n",
      "Trial Q time 1: [0.00000000e+00 5.00000000e-07 1.00000000e-06 1.50000000e-06\n",
      " 1.99999999e-06]\n",
      "Trial Q amp 1: [   0. 2000. 5000. 2000.    0.]\n",
      "\n",
      "\n",
      "\n",
      "[2.08879186 1.96765219]\n",
      "[-0.63920999 -0.61930034]\n",
      "Self projection angle: -2.9786960878637063\n",
      "Previous cost: 0.0577011078\n",
      "Trial I time 0: [0.00000000e+00 5.00000000e-07 1.00000000e-06 1.50000000e-06\n",
      " 1.99999999e-06]\n",
      "Trial I amp 0: [  0. 200. 550. 200.   0.]\n",
      "Trial Q time 0: [0.00000000e+00 5.00000000e-07 1.00000000e-06 1.50000000e-06\n",
      " 1.99999999e-06]\n",
      "Trial Q amp 0: [  0. 200. 550. 200.   0.]\n",
      "Trial I time 1: [0.00000000e+00 5.00000000e-07 1.00000000e-06 1.50000000e-06\n",
      " 1.99999999e-06]\n",
      "Trial I amp 1: [   0. 2000. 2000. 3000.    0.]\n",
      "Trial Q time 1: [0.00000000e+00 5.00000000e-07 1.00000000e-06 1.50000000e-06\n",
      " 1.99999999e-06]\n",
      "Trial Q amp 1: [   0. 2000. 5000. 2000.    0.]\n",
      "\n",
      "\n",
      "\n",
      "[2.09393917 1.96622969]\n",
      "[-0.64045746 -0.60891958]\n",
      "Self projection angle: -2.899486471591865\n",
      "Previous cost: 0.061828351\n",
      "Trial I time 0: [0.00000000e+00 5.00000000e-07 1.00000000e-06 1.50000000e-06\n",
      " 1.99999999e-06]\n",
      "Trial I amp 0: [  0. 200. 550. 200.   0.]\n",
      "Trial Q time 0: [0.00000000e+00 5.00000000e-07 1.00000000e-06 1.50000000e-06\n",
      " 1.99999999e-06]\n",
      "Trial Q amp 0: [  0. 200. 550. 200.   0.]\n",
      "Trial I time 1: [0.00000000e+00 5.00000000e-07 1.00000000e-06 1.50000000e-06\n",
      " 1.99999999e-06]\n",
      "Trial I amp 1: [   0. 2000. 2000. 3000.    0.]\n",
      "Trial Q time 1: [0.00000000e+00 5.00000000e-07 1.00000000e-06 1.50000000e-06\n",
      " 1.99999999e-06]\n",
      "Trial Q amp 1: [   0. 2000. 5000. 2000.    0.]\n",
      "\n",
      "\n",
      "\n",
      "[2.07700561 1.97387991]\n",
      "[-0.63909226 -0.60662789]\n",
      "Self projection angle: -2.8366103003066407\n",
      "Previous cost: 0.0508154557\n",
      "Trial I time 0: [0.00000000e+00 5.00000000e-07 1.00000000e-06 1.50000000e-06\n",
      " 1.99999999e-06]\n",
      "Trial I amp 0: [  0. 200. 550. 200.   0.]\n",
      "Trial Q time 0: [0.00000000e+00 5.00000000e-07 1.00000000e-06 1.50000000e-06\n",
      " 1.99999999e-06]\n",
      "Trial Q amp 0: [  0. 200. 550. 200.   0.]\n",
      "Trial I time 1: [0.00000000e+00 5.00000000e-07 1.00000000e-06 1.50000000e-06\n",
      " 1.99999999e-06]\n",
      "Trial I amp 1: [   0. 2000. 2000. 3000.    0.]\n",
      "Trial Q time 1: [0.00000000e+00 5.00000000e-07 1.00000000e-06 1.50000000e-06\n",
      " 1.99999999e-06]\n",
      "Trial Q amp 1: [   0. 2000. 5000. 2000.    0.]\n",
      "\n",
      "\n",
      "\n",
      "[2.08863339 1.97549489]\n",
      "[-0.62858109 -0.61101111]\n",
      "Self projection angle: -2.9875271239837433\n",
      "Previous cost: 0.0538139893\n",
      "Trial I time 0: [0.00000000e+00 5.00000000e-07 1.00000000e-06 1.50000000e-06\n",
      " 1.99999999e-06]\n",
      "Trial I amp 0: [  0. 200. 550. 200.   0.]\n",
      "Trial Q time 0: [0.00000000e+00 5.00000000e-07 1.00000000e-06 1.50000000e-06\n",
      " 1.99999999e-06]\n",
      "Trial Q amp 0: [  0. 200. 550. 200.   0.]\n",
      "Trial I time 1: [0.00000000e+00 5.00000000e-07 1.00000000e-06 1.50000000e-06\n",
      " 1.99999999e-06]\n",
      "Trial I amp 1: [   0. 2000. 2000. 3000.    0.]\n",
      "Trial Q time 1: [0.00000000e+00 5.00000000e-07 1.00000000e-06 1.50000000e-06\n",
      " 1.99999999e-06]\n",
      "Trial Q amp 1: [   0. 2000. 5000. 2000.    0.]\n",
      "\n",
      "\n",
      "\n",
      "[2.08279091 1.97669085]\n",
      "[-0.63440943 -0.62335   ]\n",
      "Self projection angle: -3.037731890864363\n",
      "Previous cost: 0.0501386037\n",
      "Trial I time 0: [0.00000000e+00 5.00000000e-07 1.00000000e-06 1.50000000e-06\n",
      " 1.99999999e-06]\n",
      "Trial I amp 0: [  0. 200. 550. 200.   0.]\n",
      "Trial Q time 0: [0.00000000e+00 5.00000000e-07 1.00000000e-06 1.50000000e-06\n",
      " 1.99999999e-06]\n",
      "Trial Q amp 0: [  0. 200. 550. 200.   0.]\n",
      "Trial I time 1: [0.00000000e+00 5.00000000e-07 1.00000000e-06 1.50000000e-06\n",
      " 1.99999999e-06]\n",
      "Trial I amp 1: [   0. 2000. 2000. 3000.    0.]\n",
      "Trial Q time 1: [0.00000000e+00 5.00000000e-07 1.00000000e-06 1.50000000e-06\n",
      " 1.99999999e-06]\n",
      "Trial Q amp 1: [   0. 2000. 5000. 2000.    0.]\n",
      "\n",
      "\n",
      "\n",
      "[2.08758535 1.97507767]\n",
      "[-0.64377767 -0.61174989]\n",
      "Self projection angle: -2.8642569709226535\n",
      "Previous cost: 0.0549810105\n",
      "Trial I time 0: [0.00000000e+00 5.00000000e-07 1.00000000e-06 1.50000000e-06\n",
      " 1.99999999e-06]\n",
      "Trial I amp 0: [  0. 200. 550. 200.   0.]\n",
      "Trial Q time 0: [0.00000000e+00 5.00000000e-07 1.00000000e-06 1.50000000e-06\n",
      " 1.99999999e-06]\n",
      "Trial Q amp 0: [  0. 200. 550. 200.   0.]\n",
      "Trial I time 1: [0.00000000e+00 5.00000000e-07 1.00000000e-06 1.50000000e-06\n",
      " 1.99999999e-06]\n",
      "Trial I amp 1: [   0. 2000. 2000. 3000.    0.]\n",
      "Trial Q time 1: [0.00000000e+00 5.00000000e-07 1.00000000e-06 1.50000000e-06\n",
      " 1.99999999e-06]\n",
      "Trial Q amp 1: [   0. 2000. 5000. 2000.    0.]\n",
      "\n",
      "\n",
      "\n",
      "[2.0943408  1.96206162]\n",
      "[-0.63015965 -0.61494074]\n",
      "Self projection angle: -3.0270448502180365\n",
      "Previous cost: 0.0625830896\n",
      "Trial I time 0: [0.00000000e+00 5.00000000e-07 1.00000000e-06 1.50000000e-06\n",
      " 1.99999999e-06]\n",
      "Trial I amp 0: [  0. 200. 550. 200.   0.]\n",
      "Trial Q time 0: [0.00000000e+00 5.00000000e-07 1.00000000e-06 1.50000000e-06\n",
      " 1.99999999e-06]\n",
      "Trial Q amp 0: [  0. 200. 550. 200.   0.]\n",
      "Trial I time 1: [0.00000000e+00 5.00000000e-07 1.00000000e-06 1.50000000e-06\n",
      " 1.99999999e-06]\n",
      "Trial I amp 1: [   0. 2000. 2000. 3000.    0.]\n",
      "Trial Q time 1: [0.00000000e+00 5.00000000e-07 1.00000000e-06 1.50000000e-06\n",
      " 1.99999999e-06]\n",
      "Trial Q amp 1: [   0. 2000. 5000. 2000.    0.]\n",
      "\n",
      "\n",
      "\n",
      "[2.07886728 1.95886762]\n",
      "[-0.62163945 -0.61158973]\n",
      "Self projection angle: -3.0580397314547043\n",
      "Previous cost: 0.056598867\n"
     ]
    }
   ],
   "execution_count": 9
  },
  {
   "metadata": {},
   "cell_type": "markdown",
   "source": "",
   "id": "a1a5980fa844d38e"
  },
  {
   "metadata": {
    "ExecuteTime": {
     "end_time": "2024-11-28T08:41:10.631955Z",
     "start_time": "2024-11-28T08:41:10.618954Z"
    }
   },
   "cell_type": "code",
   "source": [
    "print(np.average(a))\n",
    "print(np.std(a))"
   ],
   "id": "ec13df0c2f77c3b6",
   "outputs": [
    {
     "name": "stdout",
     "output_type": "stream",
     "text": [
      "0.05752504070000001\n",
      "0.005400685569967979\n"
     ]
    }
   ],
   "execution_count": 5
  },
  {
   "metadata": {
    "ExecuteTime": {
     "end_time": "2024-11-28T08:45:19.032954Z",
     "start_time": "2024-11-28T08:45:19.019954Z"
    }
   },
   "cell_type": "code",
   "source": [
    "print(np.average(b))\n",
    "print(np.std(b))"
   ],
   "id": "f82b073c1b1281c0",
   "outputs": [
    {
     "name": "stdout",
     "output_type": "stream",
     "text": [
      "0.05487206060000001\n",
      "0.006076542245689578\n"
     ]
    }
   ],
   "execution_count": 10
  },
  {
   "metadata": {
    "ExecuteTime": {
     "end_time": "2024-11-28T08:32:10.267954Z",
     "start_time": "2024-11-28T08:32:10.252954Z"
    }
   },
   "cell_type": "code",
   "source": [
    "print(np.average(c))\n",
    "print(np.std(c))"
   ],
   "id": "4e4305d3ff6a0599",
   "outputs": [
    {
     "name": "stdout",
     "output_type": "stream",
     "text": [
      "0.052478042749999995\n",
      "0.007351377880315849\n"
     ]
    }
   ],
   "execution_count": 8
  },
  {
   "metadata": {
    "ExecuteTime": {
     "end_time": "2024-11-28T08:34:26.394954Z",
     "start_time": "2024-11-28T08:34:26.381953Z"
    }
   },
   "cell_type": "code",
   "source": [
    "print(np.average(d))\n",
    "print(np.std(d))"
   ],
   "id": "deea5d7f95cf64d9",
   "outputs": [
    {
     "name": "stdout",
     "output_type": "stream",
     "text": [
      "0.055299453449999994\n",
      "0.006450856199170775\n"
     ]
    }
   ],
   "execution_count": 5
  },
  {
   "metadata": {},
   "cell_type": "code",
   "outputs": [],
   "execution_count": null,
   "source": "",
   "id": "2aafc5920c9c5c2"
  }
 ],
 "metadata": {
  "kernelspec": {
   "display_name": "Python 3",
   "language": "python",
   "name": "python3"
  },
  "language_info": {
   "codemirror_mode": {
    "name": "ipython",
    "version": 2
   },
   "file_extension": ".py",
   "mimetype": "text/x-python",
   "name": "python",
   "nbconvert_exporter": "python",
   "pygments_lexer": "ipython2",
   "version": "2.7.6"
  }
 },
 "nbformat": 4,
 "nbformat_minor": 5
}
