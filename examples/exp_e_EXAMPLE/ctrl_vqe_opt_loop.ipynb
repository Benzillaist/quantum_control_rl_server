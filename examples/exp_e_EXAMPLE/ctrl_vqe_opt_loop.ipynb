{
 "cells": [
  {
   "cell_type": "code",
   "id": "initial_id",
   "metadata": {
    "collapsed": true,
    "ExecuteTime": {
     "end_time": "2025-02-26T21:26:30.739506Z",
     "start_time": "2025-02-26T21:26:27.972507Z"
    }
   },
   "source": [
    "from utils.opt_utils import *\n",
    "import h5py\n",
    "import pickle\n",
    "from qutip import *"
   ],
   "outputs": [],
   "execution_count": 1
  },
  {
   "metadata": {
    "ExecuteTime": {
     "end_time": "2025-02-26T21:26:30.755507Z",
     "start_time": "2025-02-26T21:26:30.742507Z"
    }
   },
   "cell_type": "code",
   "source": "config_dict = pc.config_dict",
   "id": "1f2ee208be8924fb",
   "outputs": [],
   "execution_count": 2
  },
  {
   "metadata": {
    "ExecuteTime": {
     "end_time": "2025-02-26T21:26:30.771505Z",
     "start_time": "2025-02-26T21:26:30.757509Z"
    }
   },
   "cell_type": "code",
   "source": [
    "# Defining relevant values\n",
    "q_ch = config_dict[\"qubit\"][\"ch\"] \n",
    "A_ch = config_dict[\"storage_A\"][\"ch\"]\n",
    "B_ch = config_dict[\"storage_B\"][\"ch\"]\n",
    "\n",
    "wq = config_dict[\"qubit\"][\"freqs\"][\"g\"][\"ge\"]\n",
    "wa_A = config_dict[\"storage_A\"][\"freq\"]\n",
    "wa_B = config_dict[\"storage_B\"][\"freq\"]"
   ],
   "id": "41f57b7bf2d1c57b",
   "outputs": [],
   "execution_count": 3
  },
  {
   "metadata": {
    "ExecuteTime": {
     "end_time": "2025-02-26T21:26:30.787535Z",
     "start_time": "2025-02-26T21:26:30.773509Z"
    }
   },
   "cell_type": "code",
   "source": [
    "# ========== OPTIONS ========== #\n",
    "max_segs = 50\n",
    "us = 0.000001\n",
    "time_start = 0 * us\n",
    "time_stop = 0.25 * us\n",
    "init_qamp = 6000\n",
    "\n",
    "num_drives = 1\n",
    "chs = [2]\n",
    "init_freqs = [wq]\n",
    "verbose = True\n",
    "plot_opt_pulses = False\n",
    "plot_pulse_viewer = False\n",
    "start_split_num = 50\n",
    "n_seg_jump = 1\n",
    "\n",
    "load_pulse_dir = r'C:\\Users\\Wang_Lab\\Documents\\GitLab\\quantum_control_rl_server\\examples\\exp_e_EXAMPLE'\n",
    "load_times_file = r'opt_SNAP_times_1g.txt'\n",
    "load_amps_file = r'opt_SNAP_amps_1g.txt'\n",
    "use_loaded_data = False\n",
    "\n",
    "save_dir = r'C:\\Users\\Wang_Lab\\Documents\\GitLab\\quantum_control_rl_server\\examples\\exp_e_EXAMPLE\\save_data'\n",
    "hdf5_name = time.strftime('50pts-%Y%m%d-%H%M%S.h5')\n",
    "epochs = 1000000\n",
    "epochs_per_seg = 50\n",
    "train_batch_size = 20\n",
    "qubit_amp_scale = 1.5\n",
    "# ========== OPTIONS ========== #\n",
    "\n",
    "qscale = []\n",
    "for i in range(2 * start_split_num):\n",
    "    qscale.append(init_qamp * qubit_amp_scale)\n",
    "\n",
    "drive_freqs = np.array(init_freqs)\n",
    "\n",
    "# Setup initial times and pulse amplitudes\n",
    "times = np.linspace(time_start, time_stop, start_split_num + 2)[1:-1]\n",
    "\n",
    "t_segs = np.array([times for i in range(2 * num_drives)])\n",
    "\n",
    "amp_segs = (np.random.rand(2 * num_drives, start_split_num) - 0.5)\n",
    "amp_segs[:2, :] *= init_qamp\n",
    "\n",
    "# Create blank history arrays for storing optimal / past values\n",
    "time_hist = []\n",
    "amp_hist = []\n",
    "cost_hist = []"
   ],
   "id": "ee13c6064083c6d1",
   "outputs": [],
   "execution_count": 4
  },
  {
   "metadata": {
    "ExecuteTime": {
     "start_time": "2025-02-26T21:26:30.790532Z"
    }
   },
   "cell_type": "code",
   "source": [
    "# Run vqe, etc\n",
    "vmax = np.vectorize(max)\n",
    "vmin = np.vectorize(min)\n",
    "\n",
    "hdf5_start_index = 0\n",
    "start_segs = start_split_num\n",
    "for i in range(max_segs):\n",
    "    \n",
    "    temp_amp_scale = np.array(qscale)\n",
    "    contrast = 1.9485\n",
    "    client_args = [chs, verbose, plot_opt_pulses, plot_pulse_viewer, time_start, time_stop, drive_freqs, t_segs.flatten()]\n",
    "    server_args = [epochs, train_batch_size, amp_segs, temp_amp_scale, hdf5_name]\n",
    "\n",
    "    # Save args for rl client\n",
    "    cf_name = \"temp_files/client_args.txt\"\n",
    "    with open(cf_name, \"wb\") as fp:\n",
    "        pickle.dump(client_args, fp)\n",
    "    fp.close()\n",
    "\n",
    "    # Save args for rl server\n",
    "    sf_name = \"temp_files/server_args.txt\"\n",
    "    with open(sf_name, \"wb\") as fp:\n",
    "        pickle.dump(server_args, fp)\n",
    "    fp.close()\n",
    "\n",
    "\n",
    "    os.system('cmd /c python ./run_rl_scripts.py')\n",
    "\n",
    "    # Give time for files to be updated etc\n",
    "    time.sleep(1)\n",
    "\n",
    "    time.sleep(10)\n",
    "    opt_amps = []\n",
    "    opt_times = []\n",
    "    opt_freqs = []\n",
    "\n",
    "    with h5py.File(os.path.join(save_dir, hdf5_name), \"r\") as f:\n",
    "        opt_res_index = np.argmax(f[str(i + hdf5_start_index)][\"evaluation\"][\"rewards\"][()])\n",
    "        opt_result = f[str(i + hdf5_start_index)][\"evaluation\"][\"rewards\"][()][opt_res_index]\n",
    "        for j in range(2 * num_drives):\n",
    "            opt_amps.append([f[str(i + hdf5_start_index)][\"evaluation\"][\"actions\"][f'pulse_array_{j}'][()][opt_res_index]])\n",
    "        \n",
    "    # updates amplitudes and frequencies with optimized values and reshape\n",
    "    amp_segs = np.array(opt_amps)\n",
    "    amp_segs = np.reshape(amp_segs, (num_drives * 2, int(len(amp_segs.flatten()) / (num_drives * 2))))\n",
    "\n",
    "    print(f'================')\n",
    "    print(f'num segs: {i + start_segs} ')\n",
    "    print(f'opt_amps: {amp_segs}')\n",
    "    print(f'opt_result: {opt_result}')\n",
    "\n",
    "    # save values to history arrays\n",
    "    time_hist.append(interp_time_wrapper(t_segs, time_start, time_stop))\n",
    "    amp_hist.append(interp_amp_wrapper(amp_segs))\n",
    "    cost_hist.append(opt_result)\n",
    "\n",
    "    np.savez(r'run_data\\\\' + hdf5_name[:-3] + \"-\" + str(i) + \".npz\", time=time_hist[-1], amp=amp_hist[-1], cost=cost_hist[-1])\n",
    "\n",
    "    for i in range(2 * n_seg_jump):\n",
    "        qscale.append(init_qamp * qubit_amp_scale)\n",
    "\n",
    "    # split segments and return to start of loop\n",
    "    if (i < max_segs - 1):\n",
    "        for i in range(n_seg_jump):\n",
    "            t_segs, amp_segs = split_segs_flat(interp_time_wrapper(t_segs, time_start, time_stop), interp_amp_wrapper(amp_segs))"
   ],
   "id": "71902ea000d62b75",
   "outputs": [
    {
     "ename": "KeyboardInterrupt",
     "evalue": "",
     "output_type": "error",
     "traceback": [
      "\u001B[1;31m---------------------------------------------------------------------------\u001B[0m",
      "\u001B[1;31mKeyboardInterrupt\u001B[0m                         Traceback (most recent call last)",
      "Cell \u001B[1;32mIn[5], line 27\u001B[0m\n\u001B[0;32m     23\u001B[0m     pickle\u001B[38;5;241m.\u001B[39mdump(server_args, fp)\n\u001B[0;32m     24\u001B[0m fp\u001B[38;5;241m.\u001B[39mclose()\n\u001B[1;32m---> 27\u001B[0m \u001B[43mos\u001B[49m\u001B[38;5;241;43m.\u001B[39;49m\u001B[43msystem\u001B[49m\u001B[43m(\u001B[49m\u001B[38;5;124;43m'\u001B[39;49m\u001B[38;5;124;43mcmd /c python ./run_rl_scripts.py\u001B[39;49m\u001B[38;5;124;43m'\u001B[39;49m\u001B[43m)\u001B[49m\n\u001B[0;32m     29\u001B[0m \u001B[38;5;66;03m# Give time for files to be updated etc\u001B[39;00m\n\u001B[0;32m     30\u001B[0m time\u001B[38;5;241m.\u001B[39msleep(\u001B[38;5;241m1\u001B[39m)\n",
      "\u001B[1;31mKeyboardInterrupt\u001B[0m: "
     ]
    }
   ],
   "execution_count": 5
  },
  {
   "metadata": {
    "ExecuteTime": {
     "end_time": "2025-02-26T04:16:41.154778Z",
     "start_time": "2025-02-26T04:16:41.153779Z"
    }
   },
   "cell_type": "code",
   "source": "",
   "id": "121144915343c8d4",
   "outputs": [],
   "execution_count": null
  },
  {
   "metadata": {},
   "cell_type": "code",
   "outputs": [],
   "execution_count": null,
   "source": "",
   "id": "f0df319a5d07e255"
  }
 ],
 "metadata": {
  "kernelspec": {
   "display_name": "qick",
   "language": "python",
   "name": "qick"
  },
  "language_info": {
   "codemirror_mode": {
    "name": "ipython",
    "version": 2
   },
   "file_extension": ".py",
   "mimetype": "text/x-python",
   "name": "python",
   "nbconvert_exporter": "python",
   "pygments_lexer": "ipython2",
   "version": "2.7.6"
  }
 },
 "nbformat": 4,
 "nbformat_minor": 5
}
